{
 "cells": [
  {
   "cell_type": "code",
   "execution_count": 2,
   "id": "b746fc2a",
   "metadata": {
    "collapsed": true
   },
   "outputs": [
    {
     "name": "stdout",
     "output_type": "stream",
     "text": [
      "Requirement already satisfied: openml in /Users/lulu/opt/anaconda3/envs/py10/lib/python3.10/site-packages (0.14.1)\n",
      "Requirement already satisfied: minio in /Users/lulu/opt/anaconda3/envs/py10/lib/python3.10/site-packages (from openml) (7.1.17)\n",
      "Requirement already satisfied: scipy>=0.13.3 in /Users/lulu/opt/anaconda3/envs/py10/lib/python3.10/site-packages (from openml) (1.10.1)\n",
      "Requirement already satisfied: requests in /Users/lulu/opt/anaconda3/envs/py10/lib/python3.10/site-packages (from openml) (2.30.0)\n",
      "Requirement already satisfied: python-dateutil in /Users/lulu/opt/anaconda3/envs/py10/lib/python3.10/site-packages (from openml) (2.8.2)\n",
      "Requirement already satisfied: pandas>=1.0.0 in /Users/lulu/opt/anaconda3/envs/py10/lib/python3.10/site-packages (from openml) (2.0.1)\n",
      "Requirement already satisfied: liac-arff>=2.4.0 in /Users/lulu/opt/anaconda3/envs/py10/lib/python3.10/site-packages (from openml) (2.5.0)\n",
      "Requirement already satisfied: numpy>=1.6.2 in /Users/lulu/opt/anaconda3/envs/py10/lib/python3.10/site-packages (from openml) (1.24.3)\n",
      "Requirement already satisfied: scikit-learn>=0.18 in /Users/lulu/opt/anaconda3/envs/py10/lib/python3.10/site-packages (from openml) (1.2.2)\n",
      "Requirement already satisfied: xmltodict in /Users/lulu/opt/anaconda3/envs/py10/lib/python3.10/site-packages (from openml) (0.13.0)\n",
      "Requirement already satisfied: pyarrow in /Users/lulu/opt/anaconda3/envs/py10/lib/python3.10/site-packages (from openml) (13.0.0)\n",
      "Requirement already satisfied: pytz>=2020.1 in /Users/lulu/opt/anaconda3/envs/py10/lib/python3.10/site-packages (from pandas>=1.0.0->openml) (2023.3)\n",
      "Requirement already satisfied: tzdata>=2022.1 in /Users/lulu/opt/anaconda3/envs/py10/lib/python3.10/site-packages (from pandas>=1.0.0->openml) (2023.3)\n",
      "Requirement already satisfied: six>=1.5 in /Users/lulu/opt/anaconda3/envs/py10/lib/python3.10/site-packages (from python-dateutil->openml) (1.16.0)\n",
      "Requirement already satisfied: joblib>=1.1.1 in /Users/lulu/opt/anaconda3/envs/py10/lib/python3.10/site-packages (from scikit-learn>=0.18->openml) (1.2.0)\n",
      "Requirement already satisfied: threadpoolctl>=2.0.0 in /Users/lulu/opt/anaconda3/envs/py10/lib/python3.10/site-packages (from scikit-learn>=0.18->openml) (3.1.0)\n",
      "Requirement already satisfied: certifi in /Users/lulu/opt/anaconda3/envs/py10/lib/python3.10/site-packages (from minio->openml) (2023.5.7)\n",
      "Requirement already satisfied: urllib3 in /Users/lulu/opt/anaconda3/envs/py10/lib/python3.10/site-packages (from minio->openml) (1.26.15)\n",
      "Requirement already satisfied: idna<4,>=2.5 in /Users/lulu/opt/anaconda3/envs/py10/lib/python3.10/site-packages (from requests->openml) (3.4)\n",
      "Requirement already satisfied: charset-normalizer<4,>=2 in /Users/lulu/opt/anaconda3/envs/py10/lib/python3.10/site-packages (from requests->openml) (3.1.0)\n"
     ]
    }
   ],
   "source": [
    "!pip install openml\n",
    "\n",
    "# Basic libraries\n",
    "import numpy as np\n",
    "import pandas as pd\n",
    "import matplotlib.pyplot as plt\n",
    "import seaborn as sns\n",
    "\n",
    "# Working with files\n",
    "import os,re, glob, io\n",
    "\n",
    "\n",
    "# Working with OpenML dataset\n",
    "import openml\n",
    "from openml.datasets import edit_dataset, fork_dataset, get_dataset"
   ]
  },
  {
   "cell_type": "markdown",
   "id": "10846d0e",
   "metadata": {},
   "source": [
    "## Overwatch EDA Report"
   ]
  },
  {
   "cell_type": "markdown",
   "id": "9a3720a7",
   "metadata": {},
   "source": [
    "### Table of Contents\n",
    "1. Data Loading\n",
    "2. Basic Statistics\n",
    "3. Data Preparation\n",
    "4. Visualizations\n",
    "    - Distribution of Game Results\n",
    "    - Frequency of Map Choices\n",
    "    - Distribution of Psychological Conditions"
   ]
  },
  {
   "cell_type": "markdown",
   "id": "dda12d4c",
   "metadata": {},
   "source": [
    "### 1. Data Loading"
   ]
  },
  {
   "cell_type": "code",
   "execution_count": 3,
   "id": "51ef6e83",
   "metadata": {},
   "outputs": [
    {
     "name": "stdout",
     "output_type": "stream",
     "text": [
      "This is dataset 'Overwatch-competitions-data-7-seasons', the target feature is 'None'\n",
      "Overwatch is a team-based multiplayer first-person shooter video game developed and published by Blizzard Entertainment, which released on May 24, 2016 for PlayStation 4, Xbox One, and Windows. Described as a \"hero shooter\", Overwatch assigns players into two teams of six, with each player selecting from a roster of nearly 30 characters, known as \"heroes\", each with a unique style of play whose roles are divided into three general categories that fit their role: Offense, Defense, Tank, and Suppo\n",
      "In this report, we conduct an exploratory data analysis on a dataset containing details about Overwatch games.\n"
     ]
    },
    {
     "name": "stderr",
     "output_type": "stream",
     "text": [
      "/Users/lulu/opt/anaconda3/envs/py10/lib/python3.10/site-packages/openml/datasets/functions.py:438: FutureWarning: Starting from Version 0.15 `download_data`, `download_qualities`, and `download_features_meta_data` will all be ``False`` instead of ``True`` by default to enable lazy loading. To disable this message until version 0.15 explicitly set `download_data`, `download_qualities`, and `download_features_meta_data` to a bool while calling `get_dataset`.\n",
      "  warnings.warn(\n"
     ]
    }
   ],
   "source": [
    "# Download dataset based on OpenML dataset ID\n",
    "\n",
    "# Name = Overwatch-competitions-data-7-seasons\n",
    "# ID = 43577\n",
    "# URL = https://www.openml.org/search?type=data&sort=runs&status=active&id=43577\n",
    "\n",
    "dataset = openml.datasets.get_dataset(43577)\n",
    "\n",
    "# Print a summary\n",
    "print(\n",
    "        f\"This is dataset '{dataset.name}', the target feature is \"\n",
    "        f\"'{dataset.default_target_attribute}'\" \n",
    "     )\n",
    "\n",
    "print(dataset.description[:500])\n",
    "print(\"In this report, we conduct an exploratory data analysis on a dataset containing details about Overwatch games.\")"
   ]
  },
  {
   "cell_type": "markdown",
   "id": "81e29651",
   "metadata": {},
   "source": [
    "### 2. Basic Statistics"
   ]
  },
  {
   "cell_type": "code",
   "execution_count": 4,
   "id": "90b1a50d",
   "metadata": {},
   "outputs": [
    {
     "name": "stdout",
     "output_type": "stream",
     "text": [
      "The dataset of 'Overwatch-competitions-data-7-seasons' has 3299 simples and 47 features\n"
     ]
    }
   ],
   "source": [
    "# Get the actual data\n",
    "df, *_ = dataset.get_data()\n",
    "print(f\"The dataset of '{dataset.name}' has {len(df)} simples and {len(df.columns)} features\")"
   ]
  },
  {
   "cell_type": "code",
   "execution_count": 5,
   "id": "4013460f",
   "metadata": {},
   "outputs": [
    {
     "data": {
      "text/html": [
       "<div>\n",
       "<style scoped>\n",
       "    .dataframe tbody tr th:only-of-type {\n",
       "        vertical-align: middle;\n",
       "    }\n",
       "\n",
       "    .dataframe tbody tr th {\n",
       "        vertical-align: top;\n",
       "    }\n",
       "\n",
       "    .dataframe thead th {\n",
       "        text-align: right;\n",
       "    }\n",
       "</style>\n",
       "<table border=\"1\" class=\"dataframe\">\n",
       "  <thead>\n",
       "    <tr style=\"text-align: right;\">\n",
       "      <th></th>\n",
       "      <th>Unnamed:_0</th>\n",
       "      <th>date</th>\n",
       "      <th>time</th>\n",
       "      <th>season</th>\n",
       "      <th>game_id</th>\n",
       "      <th>sr_start</th>\n",
       "      <th>sr_finish</th>\n",
       "      <th>sr_delta</th>\n",
       "      <th>streak_number</th>\n",
       "      <th>result</th>\n",
       "      <th>...</th>\n",
       "      <th>psychological_condition</th>\n",
       "      <th>eliminations</th>\n",
       "      <th>objective_kills</th>\n",
       "      <th>damage</th>\n",
       "      <th>healing</th>\n",
       "      <th>deaths</th>\n",
       "      <th>weapon_accuracy</th>\n",
       "      <th>offensive_assists</th>\n",
       "      <th>defensive_assists</th>\n",
       "      <th>scoped</th>\n",
       "    </tr>\n",
       "  </thead>\n",
       "  <tbody>\n",
       "    <tr>\n",
       "      <th>0</th>\n",
       "      <td>0</td>\n",
       "      <td>12/4/2016</td>\n",
       "      <td>None</td>\n",
       "      <td>3</td>\n",
       "      <td>1.0</td>\n",
       "      <td>2387</td>\n",
       "      <td>None</td>\n",
       "      <td>None</td>\n",
       "      <td>None</td>\n",
       "      <td>win</td>\n",
       "      <td>...</td>\n",
       "      <td>meh</td>\n",
       "      <td>None</td>\n",
       "      <td>NaN</td>\n",
       "      <td>None</td>\n",
       "      <td>NaN</td>\n",
       "      <td>NaN</td>\n",
       "      <td>NaN</td>\n",
       "      <td>NaN</td>\n",
       "      <td>NaN</td>\n",
       "      <td>NaN</td>\n",
       "    </tr>\n",
       "    <tr>\n",
       "      <th>1</th>\n",
       "      <td>1</td>\n",
       "      <td>12/4/2016</td>\n",
       "      <td>None</td>\n",
       "      <td>3</td>\n",
       "      <td>2.0</td>\n",
       "      <td>2387</td>\n",
       "      <td>2367</td>\n",
       "      <td>-20</td>\n",
       "      <td>None</td>\n",
       "      <td>loss</td>\n",
       "      <td>...</td>\n",
       "      <td>meh</td>\n",
       "      <td>None</td>\n",
       "      <td>NaN</td>\n",
       "      <td>None</td>\n",
       "      <td>NaN</td>\n",
       "      <td>NaN</td>\n",
       "      <td>NaN</td>\n",
       "      <td>NaN</td>\n",
       "      <td>NaN</td>\n",
       "      <td>NaN</td>\n",
       "    </tr>\n",
       "    <tr>\n",
       "      <th>2</th>\n",
       "      <td>2</td>\n",
       "      <td>12/4/2016</td>\n",
       "      <td>None</td>\n",
       "      <td>3</td>\n",
       "      <td>2.0</td>\n",
       "      <td>None</td>\n",
       "      <td>None</td>\n",
       "      <td>None</td>\n",
       "      <td>None</td>\n",
       "      <td>loss</td>\n",
       "      <td>...</td>\n",
       "      <td>meh</td>\n",
       "      <td>None</td>\n",
       "      <td>NaN</td>\n",
       "      <td>None</td>\n",
       "      <td>NaN</td>\n",
       "      <td>NaN</td>\n",
       "      <td>NaN</td>\n",
       "      <td>NaN</td>\n",
       "      <td>NaN</td>\n",
       "      <td>NaN</td>\n",
       "    </tr>\n",
       "    <tr>\n",
       "      <th>3</th>\n",
       "      <td>3</td>\n",
       "      <td>12/4/2016</td>\n",
       "      <td>None</td>\n",
       "      <td>3</td>\n",
       "      <td>3.0</td>\n",
       "      <td>2367</td>\n",
       "      <td>2367</td>\n",
       "      <td>0</td>\n",
       "      <td>None</td>\n",
       "      <td>None</td>\n",
       "      <td>...</td>\n",
       "      <td>meh</td>\n",
       "      <td>None</td>\n",
       "      <td>NaN</td>\n",
       "      <td>None</td>\n",
       "      <td>NaN</td>\n",
       "      <td>NaN</td>\n",
       "      <td>NaN</td>\n",
       "      <td>NaN</td>\n",
       "      <td>NaN</td>\n",
       "      <td>NaN</td>\n",
       "    </tr>\n",
       "    <tr>\n",
       "      <th>4</th>\n",
       "      <td>4</td>\n",
       "      <td>12/15/2016</td>\n",
       "      <td>None</td>\n",
       "      <td>3</td>\n",
       "      <td>4.0</td>\n",
       "      <td>2367</td>\n",
       "      <td>2367</td>\n",
       "      <td>0</td>\n",
       "      <td>None</td>\n",
       "      <td>None</td>\n",
       "      <td>...</td>\n",
       "      <td>meh</td>\n",
       "      <td>None</td>\n",
       "      <td>NaN</td>\n",
       "      <td>None</td>\n",
       "      <td>NaN</td>\n",
       "      <td>NaN</td>\n",
       "      <td>NaN</td>\n",
       "      <td>NaN</td>\n",
       "      <td>NaN</td>\n",
       "      <td>NaN</td>\n",
       "    </tr>\n",
       "  </tbody>\n",
       "</table>\n",
       "<p>5 rows × 47 columns</p>\n",
       "</div>"
      ],
      "text/plain": [
       "   Unnamed:_0        date  time  season  game_id sr_start sr_finish sr_delta   \n",
       "0           0   12/4/2016  None       3      1.0     2387      None     None  \\\n",
       "1           1   12/4/2016  None       3      2.0     2387      2367      -20   \n",
       "2           2   12/4/2016  None       3      2.0     None      None     None   \n",
       "3           3   12/4/2016  None       3      3.0     2367      2367        0   \n",
       "4           4  12/15/2016  None       3      4.0     2367      2367        0   \n",
       "\n",
       "  streak_number result  ... psychological_condition eliminations   \n",
       "0          None    win  ...                     meh         None  \\\n",
       "1          None   loss  ...                     meh         None   \n",
       "2          None   loss  ...                     meh         None   \n",
       "3          None   None  ...                     meh         None   \n",
       "4          None   None  ...                     meh         None   \n",
       "\n",
       "  objective_kills damage healing deaths weapon_accuracy offensive_assists   \n",
       "0             NaN   None     NaN    NaN             NaN               NaN  \\\n",
       "1             NaN   None     NaN    NaN             NaN               NaN   \n",
       "2             NaN   None     NaN    NaN             NaN               NaN   \n",
       "3             NaN   None     NaN    NaN             NaN               NaN   \n",
       "4             NaN   None     NaN    NaN             NaN               NaN   \n",
       "\n",
       "  defensive_assists scoped  \n",
       "0               NaN    NaN  \n",
       "1               NaN    NaN  \n",
       "2               NaN    NaN  \n",
       "3               NaN    NaN  \n",
       "4               NaN    NaN  \n",
       "\n",
       "[5 rows x 47 columns]"
      ]
     },
     "execution_count": 5,
     "metadata": {},
     "output_type": "execute_result"
    }
   ],
   "source": [
    "df.head()"
   ]
  },
  {
   "cell_type": "markdown",
   "id": "c627c317",
   "metadata": {},
   "source": [
    "The dataset seems to have a wide variety of columns.\n",
    "Here's a brief overview of the first few columns:\n",
    "\n",
    "- Unnamed 0: an index column, which seems redundant.\n",
    "- date: The date the game was played.\n",
    "- time: The time the game was played (contains many missing values).\n",
    "- season: The competitive season of the game.\n",
    "- game_id: An identifier for the game.\n",
    "- sr_start: Skill rating at the start of the game.\n",
    "- sr_finish: Skill rating at the end of the game.\n",
    "- sr_delta: Change in skill rating.\n",
    "- streak_number: Streak number.\n",
    "- result: The result of the game (win, loss, etc.)\n",
    "- map: The map on which the game was played.\n",
    "- team_role: Role of the player's team (e.g., offense, defense).\n",
    "- character_1, character_2, character_3: Characters played during the game. There are some typos in these three columns.\n",
    "- psychological_condition: The psychological condition of the player (e.g., \"meh\").\n",
    "- Various game metrics such as eliminations, objective_kills, damage, healing, etc.\n",
    "\n",
    "Among them, 'result', 'map' and 'team role' columns are nominal attributs. 'season' column belongs to interval quantities.\n",
    "'score_distance', 'match_length', 'objective_kills', 'healing', 'deaths', 'weapon_accuracy', 'offensive_assists' etc. are ratio quantities as data types."
   ]
  },
  {
   "cell_type": "code",
   "execution_count": 42,
   "id": "a2eda374",
   "metadata": {},
   "outputs": [
    {
     "data": {
      "text/plain": [
       "time                       1798\n",
       "game_id                     732\n",
       "sr_start                   1661\n",
       "sr_finish                  1661\n",
       "sr_delta                   1663\n",
       "streak_number              1057\n",
       "result                       33\n",
       "my_team_sr                  293\n",
       "enemy_team_sr               301\n",
       "team_sr_delta               341\n",
       "my_team_1                     4\n",
       "my_team_2                    10\n",
       "my_team_3                    14\n",
       "my_team_4                    12\n",
       "my_team_5                    16\n",
       "my_team_6                    14\n",
       "enemy_team_1                 30\n",
       "enemy_team_2                 26\n",
       "enemy_team_3                 25\n",
       "enemy_team_4                 28\n",
       "enemy_team_5                 25\n",
       "enemy_team_6                 27\n",
       "map                           5\n",
       "round                       163\n",
       "capscore                     23\n",
       "score_distance             1965\n",
       "time_left                   592\n",
       "team_role                    25\n",
       "match_length                207\n",
       "character_1                 157\n",
       "character_2                2812\n",
       "character_3                3249\n",
       "communication              2008\n",
       "note                       2801\n",
       "psychological_condition       9\n",
       "eliminations               3027\n",
       "objective_kills            3028\n",
       "damage                     3028\n",
       "healing                    3030\n",
       "deaths                     3030\n",
       "weapon_accuracy            3034\n",
       "offensive_assists          3150\n",
       "defensive_assists          3190\n",
       "scoped                     3143\n",
       "dtype: int64"
      ]
     },
     "execution_count": 42,
     "metadata": {},
     "output_type": "execute_result"
    }
   ],
   "source": [
    "#check for missing values\n",
    "missing_values = df.isnull().sum()\n",
    "missing_values[missing_values > 0]"
   ]
  },
  {
   "cell_type": "markdown",
   "id": "f5abba5c",
   "metadata": {},
   "source": [
    "There are several columns with missing values in the dataset. Here are some of the notable ones:\n",
    "- 'time', 'sr_start', 'sr_finish', and 'sr_delta': Over 1600 missing values esch.\n",
    "- In-game performance metrics like 'eliminations', 'objective_kills', 'damage', etc., have over 3000 missing values each.\n",
    "- 'character_2', 'character_3': Signnificant missing values, indicating that not all games had multiple characters recorded.\n",
    "- Other columns related to team composition and match details also have missing values. "
   ]
  },
  {
   "cell_type": "code",
   "execution_count": 34,
   "id": "bd018b42",
   "metadata": {
    "scrolled": true
   },
   "outputs": [
    {
     "data": {
      "text/html": [
       "<div>\n",
       "<style scoped>\n",
       "    .dataframe tbody tr th:only-of-type {\n",
       "        vertical-align: middle;\n",
       "    }\n",
       "\n",
       "    .dataframe tbody tr th {\n",
       "        vertical-align: top;\n",
       "    }\n",
       "\n",
       "    .dataframe thead th {\n",
       "        text-align: right;\n",
       "    }\n",
       "</style>\n",
       "<table border=\"1\" class=\"dataframe\">\n",
       "  <thead>\n",
       "    <tr style=\"text-align: right;\">\n",
       "      <th></th>\n",
       "      <th>Unnamed:_0</th>\n",
       "      <th>date</th>\n",
       "      <th>season</th>\n",
       "      <th>game_id</th>\n",
       "      <th>sr_start</th>\n",
       "      <th>sr_finish</th>\n",
       "      <th>sr_delta</th>\n",
       "      <th>streak_number</th>\n",
       "      <th>my_team_sr</th>\n",
       "      <th>enemy_team_sr</th>\n",
       "      <th>...</th>\n",
       "      <th>score_distance</th>\n",
       "      <th>time_left</th>\n",
       "      <th>match_length</th>\n",
       "      <th>objective_kills</th>\n",
       "      <th>healing</th>\n",
       "      <th>deaths</th>\n",
       "      <th>weapon_accuracy</th>\n",
       "      <th>offensive_assists</th>\n",
       "      <th>defensive_assists</th>\n",
       "      <th>scoped</th>\n",
       "    </tr>\n",
       "  </thead>\n",
       "  <tbody>\n",
       "    <tr>\n",
       "      <th>count</th>\n",
       "      <td>3299.000000</td>\n",
       "      <td>3299</td>\n",
       "      <td>3299.000000</td>\n",
       "      <td>2567.000000</td>\n",
       "      <td>1638.000000</td>\n",
       "      <td>1638.000000</td>\n",
       "      <td>1636.000000</td>\n",
       "      <td>2242.000000</td>\n",
       "      <td>3006.000000</td>\n",
       "      <td>2998.000000</td>\n",
       "      <td>...</td>\n",
       "      <td>1334.000000</td>\n",
       "      <td>2707.000000</td>\n",
       "      <td>3092.000000</td>\n",
       "      <td>271.000000</td>\n",
       "      <td>269.000000</td>\n",
       "      <td>269.000000</td>\n",
       "      <td>265.000000</td>\n",
       "      <td>149.000000</td>\n",
       "      <td>109.000000</td>\n",
       "      <td>156.000000</td>\n",
       "    </tr>\n",
       "    <tr>\n",
       "      <th>mean</th>\n",
       "      <td>1649.000000</td>\n",
       "      <td>2017-05-17 14:47:49.960593920</td>\n",
       "      <td>4.520764</td>\n",
       "      <td>174.597974</td>\n",
       "      <td>2543.425519</td>\n",
       "      <td>2543.907204</td>\n",
       "      <td>3.427262</td>\n",
       "      <td>-0.109277</td>\n",
       "      <td>2649.111444</td>\n",
       "      <td>2649.067045</td>\n",
       "      <td>...</td>\n",
       "      <td>72.984299</td>\n",
       "      <td>0.924917</td>\n",
       "      <td>6.815485</td>\n",
       "      <td>7.933579</td>\n",
       "      <td>5852.706320</td>\n",
       "      <td>9825.516729</td>\n",
       "      <td>9.452830</td>\n",
       "      <td>33.966443</td>\n",
       "      <td>7.669725</td>\n",
       "      <td>11.455128</td>\n",
       "    </tr>\n",
       "    <tr>\n",
       "      <th>min</th>\n",
       "      <td>0.000000</td>\n",
       "      <td>2016-01-24 00:00:00</td>\n",
       "      <td>3.000000</td>\n",
       "      <td>1.000000</td>\n",
       "      <td>1966.000000</td>\n",
       "      <td>1966.000000</td>\n",
       "      <td>-70.000000</td>\n",
       "      <td>-13.000000</td>\n",
       "      <td>1956.000000</td>\n",
       "      <td>1937.000000</td>\n",
       "      <td>...</td>\n",
       "      <td>0.000000</td>\n",
       "      <td>0.000000</td>\n",
       "      <td>0.000000</td>\n",
       "      <td>0.000000</td>\n",
       "      <td>0.000000</td>\n",
       "      <td>0.000000</td>\n",
       "      <td>0.000000</td>\n",
       "      <td>16.000000</td>\n",
       "      <td>0.000000</td>\n",
       "      <td>0.000000</td>\n",
       "    </tr>\n",
       "    <tr>\n",
       "      <th>25%</th>\n",
       "      <td>824.500000</td>\n",
       "      <td>2017-02-10 00:00:00</td>\n",
       "      <td>3.000000</td>\n",
       "      <td>65.500000</td>\n",
       "      <td>2420.000000</td>\n",
       "      <td>2421.000000</td>\n",
       "      <td>-23.000000</td>\n",
       "      <td>-1.000000</td>\n",
       "      <td>2519.000000</td>\n",
       "      <td>2515.250000</td>\n",
       "      <td>...</td>\n",
       "      <td>61.510000</td>\n",
       "      <td>0.000000</td>\n",
       "      <td>4.000000</td>\n",
       "      <td>2.000000</td>\n",
       "      <td>2534.000000</td>\n",
       "      <td>6677.000000</td>\n",
       "      <td>6.000000</td>\n",
       "      <td>24.000000</td>\n",
       "      <td>4.000000</td>\n",
       "      <td>2.000000</td>\n",
       "    </tr>\n",
       "    <tr>\n",
       "      <th>50%</th>\n",
       "      <td>1649.000000</td>\n",
       "      <td>2017-05-04 00:00:00</td>\n",
       "      <td>4.000000</td>\n",
       "      <td>145.000000</td>\n",
       "      <td>2568.500000</td>\n",
       "      <td>2569.000000</td>\n",
       "      <td>0.000000</td>\n",
       "      <td>0.000000</td>\n",
       "      <td>2655.000000</td>\n",
       "      <td>2656.000000</td>\n",
       "      <td>...</td>\n",
       "      <td>71.750000</td>\n",
       "      <td>0.000000</td>\n",
       "      <td>6.000000</td>\n",
       "      <td>6.000000</td>\n",
       "      <td>5418.000000</td>\n",
       "      <td>9460.000000</td>\n",
       "      <td>9.000000</td>\n",
       "      <td>28.000000</td>\n",
       "      <td>6.000000</td>\n",
       "      <td>7.500000</td>\n",
       "    </tr>\n",
       "    <tr>\n",
       "      <th>75%</th>\n",
       "      <td>2473.500000</td>\n",
       "      <td>2017-09-06 00:00:00</td>\n",
       "      <td>6.000000</td>\n",
       "      <td>224.000000</td>\n",
       "      <td>2678.750000</td>\n",
       "      <td>2679.750000</td>\n",
       "      <td>24.000000</td>\n",
       "      <td>1.000000</td>\n",
       "      <td>2821.000000</td>\n",
       "      <td>2822.000000</td>\n",
       "      <td>...</td>\n",
       "      <td>82.655000</td>\n",
       "      <td>1.500000</td>\n",
       "      <td>8.000000</td>\n",
       "      <td>11.000000</td>\n",
       "      <td>8638.000000</td>\n",
       "      <td>12862.000000</td>\n",
       "      <td>12.000000</td>\n",
       "      <td>44.000000</td>\n",
       "      <td>9.000000</td>\n",
       "      <td>18.000000</td>\n",
       "    </tr>\n",
       "    <tr>\n",
       "      <th>max</th>\n",
       "      <td>3298.000000</td>\n",
       "      <td>2017-12-22 00:00:00</td>\n",
       "      <td>7.000000</td>\n",
       "      <td>538.000000</td>\n",
       "      <td>3017.000000</td>\n",
       "      <td>3017.000000</td>\n",
       "      <td>2513.000000</td>\n",
       "      <td>12.000000</td>\n",
       "      <td>3178.000000</td>\n",
       "      <td>3172.000000</td>\n",
       "      <td>...</td>\n",
       "      <td>4375.000000</td>\n",
       "      <td>34.000000</td>\n",
       "      <td>535.000000</td>\n",
       "      <td>34.000000</td>\n",
       "      <td>19226.000000</td>\n",
       "      <td>23700.000000</td>\n",
       "      <td>59.000000</td>\n",
       "      <td>66.000000</td>\n",
       "      <td>80.000000</td>\n",
       "      <td>50.000000</td>\n",
       "    </tr>\n",
       "    <tr>\n",
       "      <th>std</th>\n",
       "      <td>952.483596</td>\n",
       "      <td>NaN</td>\n",
       "      <td>1.404244</td>\n",
       "      <td>137.973312</td>\n",
       "      <td>208.401641</td>\n",
       "      <td>208.300808</td>\n",
       "      <td>90.974232</td>\n",
       "      <td>2.704404</td>\n",
       "      <td>232.518535</td>\n",
       "      <td>235.335074</td>\n",
       "      <td>...</td>\n",
       "      <td>119.984371</td>\n",
       "      <td>1.716370</td>\n",
       "      <td>10.565561</td>\n",
       "      <td>6.974771</td>\n",
       "      <td>4195.568791</td>\n",
       "      <td>4692.357682</td>\n",
       "      <td>5.582596</td>\n",
       "      <td>13.700176</td>\n",
       "      <td>9.068724</td>\n",
       "      <td>11.967883</td>\n",
       "    </tr>\n",
       "  </tbody>\n",
       "</table>\n",
       "<p>8 rows × 22 columns</p>\n",
       "</div>"
      ],
      "text/plain": [
       "        Unnamed:_0                           date       season      game_id   \n",
       "count  3299.000000                           3299  3299.000000  2567.000000  \\\n",
       "mean   1649.000000  2017-05-17 14:47:49.960593920     4.520764   174.597974   \n",
       "min       0.000000            2016-01-24 00:00:00     3.000000     1.000000   \n",
       "25%     824.500000            2017-02-10 00:00:00     3.000000    65.500000   \n",
       "50%    1649.000000            2017-05-04 00:00:00     4.000000   145.000000   \n",
       "75%    2473.500000            2017-09-06 00:00:00     6.000000   224.000000   \n",
       "max    3298.000000            2017-12-22 00:00:00     7.000000   538.000000   \n",
       "std     952.483596                            NaN     1.404244   137.973312   \n",
       "\n",
       "          sr_start    sr_finish     sr_delta  streak_number   my_team_sr   \n",
       "count  1638.000000  1638.000000  1636.000000    2242.000000  3006.000000  \\\n",
       "mean   2543.425519  2543.907204     3.427262      -0.109277  2649.111444   \n",
       "min    1966.000000  1966.000000   -70.000000     -13.000000  1956.000000   \n",
       "25%    2420.000000  2421.000000   -23.000000      -1.000000  2519.000000   \n",
       "50%    2568.500000  2569.000000     0.000000       0.000000  2655.000000   \n",
       "75%    2678.750000  2679.750000    24.000000       1.000000  2821.000000   \n",
       "max    3017.000000  3017.000000  2513.000000      12.000000  3178.000000   \n",
       "std     208.401641   208.300808    90.974232       2.704404   232.518535   \n",
       "\n",
       "       enemy_team_sr  ...  score_distance    time_left  match_length   \n",
       "count    2998.000000  ...     1334.000000  2707.000000   3092.000000  \\\n",
       "mean     2649.067045  ...       72.984299     0.924917      6.815485   \n",
       "min      1937.000000  ...        0.000000     0.000000      0.000000   \n",
       "25%      2515.250000  ...       61.510000     0.000000      4.000000   \n",
       "50%      2656.000000  ...       71.750000     0.000000      6.000000   \n",
       "75%      2822.000000  ...       82.655000     1.500000      8.000000   \n",
       "max      3172.000000  ...     4375.000000    34.000000    535.000000   \n",
       "std       235.335074  ...      119.984371     1.716370     10.565561   \n",
       "\n",
       "       objective_kills       healing        deaths  weapon_accuracy   \n",
       "count       271.000000    269.000000    269.000000       265.000000  \\\n",
       "mean          7.933579   5852.706320   9825.516729         9.452830   \n",
       "min           0.000000      0.000000      0.000000         0.000000   \n",
       "25%           2.000000   2534.000000   6677.000000         6.000000   \n",
       "50%           6.000000   5418.000000   9460.000000         9.000000   \n",
       "75%          11.000000   8638.000000  12862.000000        12.000000   \n",
       "max          34.000000  19226.000000  23700.000000        59.000000   \n",
       "std           6.974771   4195.568791   4692.357682         5.582596   \n",
       "\n",
       "       offensive_assists  defensive_assists      scoped  \n",
       "count         149.000000         109.000000  156.000000  \n",
       "mean           33.966443           7.669725   11.455128  \n",
       "min            16.000000           0.000000    0.000000  \n",
       "25%            24.000000           4.000000    2.000000  \n",
       "50%            28.000000           6.000000    7.500000  \n",
       "75%            44.000000           9.000000   18.000000  \n",
       "max            66.000000          80.000000   50.000000  \n",
       "std            13.700176           9.068724   11.967883  \n",
       "\n",
       "[8 rows x 22 columns]"
      ]
     },
     "execution_count": 34,
     "metadata": {},
     "output_type": "execute_result"
    }
   ],
   "source": [
    "# Basic statistics of numerical columns\n",
    "df.describe()\n"
   ]
  },
  {
   "cell_type": "markdown",
   "id": "32bf8767",
   "metadata": {},
   "source": [
    "The basic statistics for the numerical columns reveal the following:\n",
    "1. season: The dataset spans from season 3 to season 7.\n",
    "2. healing: The average healing provided during a match is around 5852.7 with a maximum healing value of 19226.\n",
    "3. deaths: This seems to have unusually high values, with an average of 9825.5. it's likely that this column may have been mislabled or contains incorrect data.\n",
    "4. weapon_accuracy: The average weapon accuracy is around 9.45%, with a maximum accuracy of 59%.\n",
    "5. offensive_assists and defensive_assists: The average values in a match is around 34 and 7.67.\n",
    "6. scoped: This seems to have an average of 11.45, but its meaning needs clarificaiton."
   ]
  },
  {
   "cell_type": "markdown",
   "id": "e77bb5aa",
   "metadata": {},
   "source": [
    "### 3. Data Preparation"
   ]
  },
  {
   "cell_type": "markdown",
   "id": "5db9cfe0",
   "metadata": {},
   "source": [
    "Mostly all of them are as string so a lot of the preparation is in regard of converting these fields to numeric when necessary.\n",
    "- Convert to DateTime format\n",
    "- Clean and convert match duration to seconds: sometimes, this time is written as 3:19, or is plainly wrong (3:0), or contains characters (llw, check)\n",
    "- fix typos in names by replacing \"\" or - by NA"
   ]
  },
  {
   "cell_type": "code",
   "execution_count": 7,
   "id": "4b30279f",
   "metadata": {},
   "outputs": [],
   "source": [
    "# rename columns\n",
    "df = df.rename(columns={\"charcter_1\": \"character_1\"})\n",
    "\n",
    "# create DateTime variable\n",
    "df['date'] = pd.to_datetime(df['date'],format='%m/%d/%Y')"
   ]
  },
  {
   "cell_type": "code",
   "execution_count": 8,
   "id": "a9a79812",
   "metadata": {},
   "outputs": [],
   "source": [
    "# convert columns match_length and time_left to numeric\n",
    "def convert_match_length(x, df):\n",
    "\n",
    "    # Get the unique values\n",
    "    unique_values = df.unique()\n",
    "    # Use a regular expression to match only float and integer values\n",
    "    pattern = re.compile(r'^\\d+(\\.\\d+)?$')\n",
    "    filtered_values = [value for value in unique_values if value is not None and (pattern.match(str(value)) or (':' in value and all(part.isdigit() for part in value.split(':'))))]\n",
    "\n",
    "    if x not in filtered_values:\n",
    "        return None\n",
    "    elif \":\" in x:\n",
    "        num, sec = float(x.split(':')[0]), float(x.split(':')[1])\n",
    "        if sec < 30:\n",
    "            sec2 = 0\n",
    "        else:\n",
    "            sec2 = 0.5\n",
    "        return num + sec2\n",
    "    else:\n",
    "        return float(x)\n",
    "\n",
    "\n",
    "# Apply the function to the 'time_left' column\n",
    "df['time_left'] = df['time_left'].apply(lambda x: convert_match_length(x, df['time_left']))\n",
    "df['match_length'] = df['match_length'].apply(lambda x: convert_match_length(x, df['match_length']))"
   ]
  },
  {
   "cell_type": "code",
   "execution_count": 9,
   "id": "e279f851",
   "metadata": {},
   "outputs": [],
   "source": [
    "# fix typos in map\n",
    "df['map'] = df['map'].str.replace('junkerTown', 'junkertown')\n",
    "df['map'] = df['map'].str.replace('template of anubis', 'temple of anubis')\n",
    "\n",
    "# fix typos in names\n",
    "def fixName(x):\n",
    "    if x == \"luico\":\n",
    "        return \"lucio\"\n",
    "    elif x == \"torbjorn\":\n",
    "        return \"torbojorn\"\n",
    "    elif x == \"\" or x == \"error\" or x == \"After 4 minutes left after 1st point\" or x == \"After 1st round\" or x == \"After 1st point\":\n",
    "        return None\n",
    "    else:\n",
    "        return x\n",
    "    \n",
    "df['character_1'] = df['character_1'].apply(fixName)\n",
    "df['character_2'] = df['character_2'].apply(fixName)\n",
    "df['character_3'] = df['character_3'].apply(fixName)\n",
    "\n",
    "df['communication'] = df['communication'].apply(lambda x: None if x == \"-\" else x)\n",
    "df['team_role'] = df['team_role'].apply(lambda x: None if x == \"w\" else x)\n"
   ]
  },
  {
   "cell_type": "code",
   "execution_count": 10,
   "id": "a439ce76",
   "metadata": {},
   "outputs": [],
   "source": [
    "# convert to numeric\n",
    "list_to_numeric = [\"round\",\"score_distance\",\n",
    "                   \"sr_start\", \"sr_finish\", \"sr_delta\",\n",
    "                   \"streak_number\",\"my_team_sr\", \"enemy_team_sr\",\"team_sr_delta\"]\n",
    "for col in list_to_numeric:\n",
    "    df[col] = pd.to_numeric(df[col], errors='coerce')"
   ]
  },
  {
   "cell_type": "markdown",
   "id": "13dcbff6",
   "metadata": {},
   "source": [
    "### 4. Visualizations"
   ]
  },
  {
   "cell_type": "markdown",
   "id": "69e61d0d",
   "metadata": {},
   "source": [
    "For the exploratory data analysis, we'ill focus on the following:\n",
    "1. Distribution of game results (win/loss)\n",
    "2. Distribution of games across maps\n",
    "3. Distribution of games across team roles\n",
    "4. Most popular characters used\n",
    "5. Distribution of psychological conditions\n",
    "6. Relationships between selected columns using interactive plots."
   ]
  },
  {
   "cell_type": "code",
   "execution_count": 47,
   "id": "f5a03043",
   "metadata": {},
   "outputs": [
    {
     "data": {
      "image/png": "[encoded data removed]",
      "text/plain": [
       "<Figure size 1000x600 with 1 Axes>"
      ]
     },
     "metadata": {},
     "output_type": "display_data"
    }
   ],
   "source": [
    "# Distribution of game results\n",
    "\n",
    "# Set the style of seaborn\n",
    "sns.set_style(\"whitegrid\")\n",
    "\n",
    "# Plot the distribution of game results\n",
    "plt.figure(figsize=(10, 6))\n",
    "sns.countplot(data=df, x='result', order=df['result'].value_counts().index, palette=\"crest\")\n",
    "plt.title('Distribution of Game Results')\n",
    "plt.ylabel('Number of Games')\n",
    "plt.show()"
   ]
  },
  {
   "cell_type": "markdown",
   "id": "2fbcb58d",
   "metadata": {},
   "source": [
    "The distribution of game results indicates that there's a fairly close number of \"win\" and \"loss\" outcomes, with \"win\" having a slight edge. The category \"draw\" has significantly fewer occurrences."
   ]
  },
  {
   "cell_type": "code",
   "execution_count": 25,
   "id": "65fbfb21",
   "metadata": {},
   "outputs": [
    {
     "data": {
      "image/png": "[encoded data removed]",
      "text/plain": [
       "<Figure size 1400x800 with 1 Axes>"
      ]
     },
     "metadata": {},
     "output_type": "display_data"
    }
   ],
   "source": [
    "# the most frequently played maps\n",
    "# Plot the most played maps\n",
    "plt.figure(figsize=(14, 8))\n",
    "sns.countplot(data=df, y='map', order=df['map'].value_counts().index, palette=\"crest\")\n",
    "plt.title('Most Played Maps')\n",
    "plt.xlabel('Number of Games')\n",
    "plt.show()"
   ]
  },
  {
   "cell_type": "markdown",
   "id": "c305a433",
   "metadata": {},
   "source": [
    "The visualization reveals that certain maps, such as \"numbani\" and \"Volskaya Industries\", are played more frequently than others in this dataset. Conversely, some maps, like \"junketown\" appear less often."
   ]
  },
  {
   "cell_type": "code",
   "execution_count": 26,
   "id": "56d8be02",
   "metadata": {},
   "outputs": [
    {
     "data": {
      "image/png": "[encoded data removed]",
      "text/plain": [
       "<Figure size 1000x600 with 1 Axes>"
      ]
     },
     "metadata": {},
     "output_type": "display_data"
    }
   ],
   "source": [
    "# Plot the distribution of team roles\n",
    "plt.figure(figsize=(10, 6))\n",
    "sns.countplot(data=df, x='team_role', order=df['team_role'].value_counts().index, palette=\"crest\")\n",
    "plt.title('Distribution of Team Roles')\n",
    "plt.ylabel('Number of Games')\n",
    "plt.show()"
   ]
  },
  {
   "cell_type": "markdown",
   "id": "1363e959",
   "metadata": {},
   "source": [
    "The distribution of team roles indicates that \"Defense\" is the most common role, followed by \"Attack\". The \"cp\" role has the fewest occurrences, which aligns with our earlier observation regarding game results."
   ]
  },
  {
   "cell_type": "code",
   "execution_count": 41,
   "id": "9f88a6cc",
   "metadata": {},
   "outputs": [
    {
     "data": {
      "image/png": "[encoded data removed]",
      "text/plain": [
       "<Figure size 1400x800 with 1 Axes>"
      ]
     },
     "metadata": {},
     "output_type": "display_data"
    }
   ],
   "source": [
    "# combining the three character columns into one\n",
    "characters_data = pd.concat([df['character_1'], df['character_2'], df['character_3']])\n",
    "\n",
    "# plot the most popular characters\n",
    "plt.figure(figsize=(14, 8))\n",
    "sns.countplot(data=characters_data, y=characters_data, order=characters_data.value_counts().index, palette=\"crest\")\n",
    "plt.title('Most Popular Characters Used')\n",
    "plt.xlabel('Number of Games')\n",
    "plt.ylabel('Character')\n",
    "plt.show()"
   ]
  },
  {
   "cell_type": "markdown",
   "id": "9c81fcfc",
   "metadata": {},
   "source": [
    "The visualization showcases the most popular characters. \"zen\" tops the list, followed by \"mercy\" and \"ana\".\n",
    "\n",
    "Lastly, let's explore the psychological_condition column and examine if there's any correlation between a player's psychological condition and the game result. This can give us insights into whether a player's mood or mental state can impact the outcome of the game.\n",
    "\n",
    "To do this, we'll use a cross-tabulation to check the distribution of game results across different psychological conditions."
   ]
  },
  {
   "cell_type": "code",
   "execution_count": 18,
   "id": "bab8535b",
   "metadata": {},
   "outputs": [
    {
     "data": {
      "image/png": "[encoded data removed]",
      "text/plain": [
       "<Figure size 1200x700 with 1 Axes>"
      ]
     },
     "metadata": {},
     "output_type": "display_data"
    }
   ],
   "source": [
    "# Create a cross-tabulation of psychological condition vs. game result\n",
    "psych_condition_vs_result = pd.crosstab(df['psychological_condition'], df['result'])\n",
    "\n",
    "# Plot the cross-tabulation\n",
    "psych_condition_vs_result.plot(kind='bar', stacked=True, figsize=(12, 7), colormap=\"crest\")\n",
    "plt.title('Game Results by Psychological Condition')\n",
    "plt.ylabel('Number of Games')\n",
    "plt.xlabel('Psychological Condition')\n",
    "plt.show()"
   ]
  },
  {
   "cell_type": "markdown",
   "id": "41bd6b75",
   "metadata": {},
   "source": [
    "The stacked bar chart showcases game results based on the player's psychological condition. Some interesting observations:\n",
    "\n",
    "For most psychological conditions, the number of wins and losses are relatively close.\n",
    "The \"meh\" condition has a notably higher number of games compared to other conditions. This might suggest that the player often felt neutral or indifferent during gameplay.\n",
    "\"Good\" and \"great\" conditions tend to have much more wins than losses.\n",
    "\"Bad\" condition appears to have more losses than wins, suggesting that a player's negative mood might adversely affect gameplay."
   ]
  },
  {
   "cell_type": "code",
   "execution_count": 29,
   "id": "e9368a60",
   "metadata": {},
   "outputs": [
    {
     "data": {
      "application/vnd.plotly.v1+json": {
       "config": {
        "plotlyServerURL": "https://plot.ly"
       },
       "data": [
        {
         "alignmentgroup": "True",
         "hovertemplate": "result=win<br>Psychological Condition=%{x}<br>count=%{y}<extra></extra>",
         "legendgroup": "win",
         "marker": {
          "color": "#440154",
          "pattern": {
           "shape": ""
          }
         },
         "name": "win",
         "offsetgroup": "win",
         "orientation": "v",
         "showlegend": true,
         "textposition": "auto",
         "type": "bar",
         "x": [
          "accepting",
          "angry",
          "bad",
          "bugged",
          "bummed",
          "confused",
          "depressed",
          "exhausted",
          "good",
          "great",
          "hopeful",
          "meh",
          "relieved",
          "scared",
          "talkative",
          "tense",
          "tilted",
          "worried"
         ],
         "xaxis": "x",
         "y": [
          0,
          0,
          12,
          0,
          4,
          1,
          0,
          0,
          387,
          40,
          2,
          1025,
          1,
          1,
          3,
          3,
          6,
          0
         ],
         "yaxis": "y"
        },
        {
         "alignmentgroup": "True",
         "hovertemplate": "result=loss<br>Psychological Condition=%{x}<br>count=%{y}<extra></extra>",
         "legendgroup": "loss",
         "marker": {
          "color": "#482878",
          "pattern": {
           "shape": ""
          }
         },
         "name": "loss",
         "offsetgroup": "loss",
         "orientation": "v",
         "showlegend": true,
         "textposition": "auto",
         "type": "bar",
         "x": [
          "accepting",
          "angry",
          "bad",
          "bugged",
          "bummed",
          "confused",
          "depressed",
          "exhausted",
          "good",
          "great",
          "hopeful",
          "meh",
          "relieved",
          "scared",
          "talkative",
          "tense",
          "tilted",
          "worried"
         ],
         "xaxis": "x",
         "y": [
          2,
          3,
          75,
          1,
          21,
          5,
          3,
          1,
          24,
          0,
          8,
          1203,
          0,
          0,
          0,
          2,
          170,
          0
         ],
         "yaxis": "y"
        },
        {
         "alignmentgroup": "True",
         "hovertemplate": "result=draw<br>Psychological Condition=%{x}<br>count=%{y}<extra></extra>",
         "legendgroup": "draw",
         "marker": {
          "color": "#3e4989",
          "pattern": {
           "shape": ""
          }
         },
         "name": "draw",
         "offsetgroup": "draw",
         "orientation": "v",
         "showlegend": true,
         "textposition": "auto",
         "type": "bar",
         "x": [
          "accepting",
          "angry",
          "bad",
          "bugged",
          "bummed",
          "confused",
          "depressed",
          "exhausted",
          "good",
          "great",
          "hopeful",
          "meh",
          "relieved",
          "scared",
          "talkative",
          "tense",
          "tilted",
          "worried"
         ],
         "xaxis": "x",
         "y": [
          0,
          1,
          6,
          0,
          8,
          1,
          0,
          0,
          11,
          1,
          7,
          212,
          2,
          0,
          0,
          2,
          9,
          1
         ],
         "yaxis": "y"
        }
       ],
       "layout": {
        "barmode": "relative",
        "legend": {
         "title": {
          "text": "result"
         },
         "tracegroupgap": 0
        },
        "template": {
         "data": {
          "bar": [
           {
            "error_x": {
             "color": "#2a3f5f"
            },
            "error_y": {
             "color": "#2a3f5f"
            },
            "marker": {
             "line": {
              "color": "#E5ECF6",
              "width": 0.5
             },
             "pattern": {
              "fillmode": "overlay",
              "size": 10,
              "solidity": 0.2
             }
            },
            "type": "bar"
           }
          ],
          "barpolar": [
           {
            "marker": {
             "line": {
              "color": "#E5ECF6",
              "width": 0.5
             },
             "pattern": {
              "fillmode": "overlay",
              "size": 10,
              "solidity": 0.2
             }
            },
            "type": "barpolar"
           }
          ],
          "carpet": [
           {
            "aaxis": {
             "endlinecolor": "#2a3f5f",
             "gridcolor": "white",
             "linecolor": "white",
             "minorgridcolor": "white",
             "startlinecolor": "#2a3f5f"
            },
            "baxis": {
             "endlinecolor": "#2a3f5f",
             "gridcolor": "white",
             "linecolor": "white",
             "minorgridcolor": "white",
             "startlinecolor": "#2a3f5f"
            },
            "type": "carpet"
           }
          ],
          "choropleth": [
           {
            "colorbar": {
             "outlinewidth": 0,
             "ticks": ""
            },
            "type": "choropleth"
           }
          ],
          "contour": [
           {
            "colorbar": {
             "outlinewidth": 0,
             "ticks": ""
            },
            "colorscale": [
             [
              0,
              "#0d0887"
             ],
             [
              0.1111111111111111,
              "#46039f"
             ],
             [
              0.2222222222222222,
              "#7201a8"
             ],
             [
              0.3333333333333333,
              "#9c179e"
             ],
             [
              0.4444444444444444,
              "#bd3786"
             ],
             [
              0.5555555555555556,
              "#d8576b"
             ],
             [
              0.6666666666666666,
              "#ed7953"
             ],
             [
              0.7777777777777778,
              "#fb9f3a"
             ],
             [
              0.8888888888888888,
              "#fdca26"
             ],
             [
              1,
              "#f0f921"
             ]
            ],
            "type": "contour"
           }
          ],
          "contourcarpet": [
           {
            "colorbar": {
             "outlinewidth": 0,
             "ticks": ""
            },
            "type": "contourcarpet"
           }
          ],
          "heatmap": [
           {
            "colorbar": {
             "outlinewidth": 0,
             "ticks": ""
            },
            "colorscale": [
             [
              0,
              "#0d0887"
             ],
             [
              0.1111111111111111,
              "#46039f"
             ],
             [
              0.2222222222222222,
              "#7201a8"
             ],
             [
              0.3333333333333333,
              "#9c179e"
             ],
             [
              0.4444444444444444,
              "#bd3786"
             ],
             [
              0.5555555555555556,
              "#d8576b"
             ],
             [
              0.6666666666666666,
              "#ed7953"
             ],
             [
              0.7777777777777778,
              "#fb9f3a"
             ],
             [
              0.8888888888888888,
              "#fdca26"
             ],
             [
              1,
              "#f0f921"
             ]
            ],
            "type": "heatmap"
           }
          ],
          "heatmapgl": [
           {
            "colorbar": {
             "outlinewidth": 0,
             "ticks": ""
            },
            "colorscale": [
             [
              0,
              "#0d0887"
             ],
             [
              0.1111111111111111,
              "#46039f"
             ],
             [
              0.2222222222222222,
              "#7201a8"
             ],
             [
              0.3333333333333333,
              "#9c179e"
             ],
             [
              0.4444444444444444,
              "#bd3786"
             ],
             [
              0.5555555555555556,
              "#d8576b"
             ],
             [
              0.6666666666666666,
              "#ed7953"
             ],
             [
              0.7777777777777778,
              "#fb9f3a"
             ],
             [
              0.8888888888888888,
              "#fdca26"
             ],
             [
              1,
              "#f0f921"
             ]
            ],
            "type": "heatmapgl"
           }
          ],
          "histogram": [
           {
            "marker": {
             "pattern": {
              "fillmode": "overlay",
              "size": 10,
              "solidity": 0.2
             }
            },
            "type": "histogram"
           }
          ],
          "histogram2d": [
           {
            "colorbar": {
             "outlinewidth": 0,
             "ticks": ""
            },
            "colorscale": [
             [
              0,
              "#0d0887"
             ],
             [
              0.1111111111111111,
              "#46039f"
             ],
             [
              0.2222222222222222,
              "#7201a8"
             ],
             [
              0.3333333333333333,
              "#9c179e"
             ],
             [
              0.4444444444444444,
              "#bd3786"
             ],
             [
              0.5555555555555556,
              "#d8576b"
             ],
             [
              0.6666666666666666,
              "#ed7953"
             ],
             [
              0.7777777777777778,
              "#fb9f3a"
             ],
             [
              0.8888888888888888,
              "#fdca26"
             ],
             [
              1,
              "#f0f921"
             ]
            ],
            "type": "histogram2d"
           }
          ],
          "histogram2dcontour": [
           {
            "colorbar": {
             "outlinewidth": 0,
             "ticks": ""
            },
            "colorscale": [
             [
              0,
              "#0d0887"
             ],
             [
              0.1111111111111111,
              "#46039f"
             ],
             [
              0.2222222222222222,
              "#7201a8"
             ],
             [
              0.3333333333333333,
              "#9c179e"
             ],
             [
              0.4444444444444444,
              "#bd3786"
             ],
             [
              0.5555555555555556,
              "#d8576b"
             ],
             [
              0.6666666666666666,
              "#ed7953"
             ],
             [
              0.7777777777777778,
              "#fb9f3a"
             ],
             [
              0.8888888888888888,
              "#fdca26"
             ],
             [
              1,
              "#f0f921"
             ]
            ],
            "type": "histogram2dcontour"
           }
          ],
          "mesh3d": [
           {
            "colorbar": {
             "outlinewidth": 0,
             "ticks": ""
            },
            "type": "mesh3d"
           }
          ],
          "parcoords": [
           {
            "line": {
             "colorbar": {
              "outlinewidth": 0,
              "ticks": ""
             }
            },
            "type": "parcoords"
           }
          ],
          "pie": [
           {
            "automargin": true,
            "type": "pie"
           }
          ],
          "scatter": [
           {
            "fillpattern": {
             "fillmode": "overlay",
             "size": 10,
             "solidity": 0.2
            },
            "type": "scatter"
           }
          ],
          "scatter3d": [
           {
            "line": {
             "colorbar": {
              "outlinewidth": 0,
              "ticks": ""
             }
            },
            "marker": {
             "colorbar": {
              "outlinewidth": 0,
              "ticks": ""
             }
            },
            "type": "scatter3d"
           }
          ],
          "scattercarpet": [
           {
            "marker": {
             "colorbar": {
              "outlinewidth": 0,
              "ticks": ""
             }
            },
            "type": "scattercarpet"
           }
          ],
          "scattergeo": [
           {
            "marker": {
             "colorbar": {
              "outlinewidth": 0,
              "ticks": ""
             }
            },
            "type": "scattergeo"
           }
          ],
          "scattergl": [
           {
            "marker": {
             "colorbar": {
              "outlinewidth": 0,
              "ticks": ""
             }
            },
            "type": "scattergl"
           }
          ],
          "scattermapbox": [
           {
            "marker": {
             "colorbar": {
              "outlinewidth": 0,
              "ticks": ""
             }
            },
            "type": "scattermapbox"
           }
          ],
          "scatterpolar": [
           {
            "marker": {
             "colorbar": {
              "outlinewidth": 0,
              "ticks": ""
             }
            },
            "type": "scatterpolar"
           }
          ],
          "scatterpolargl": [
           {
            "marker": {
             "colorbar": {
              "outlinewidth": 0,
              "ticks": ""
             }
            },
            "type": "scatterpolargl"
           }
          ],
          "scatterternary": [
           {
            "marker": {
             "colorbar": {
              "outlinewidth": 0,
              "ticks": ""
             }
            },
            "type": "scatterternary"
           }
          ],
          "surface": [
           {
            "colorbar": {
             "outlinewidth": 0,
             "ticks": ""
            },
            "colorscale": [
             [
              0,
              "#0d0887"
             ],
             [
              0.1111111111111111,
              "#46039f"
             ],
             [
              0.2222222222222222,
              "#7201a8"
             ],
             [
              0.3333333333333333,
              "#9c179e"
             ],
             [
              0.4444444444444444,
              "#bd3786"
             ],
             [
              0.5555555555555556,
              "#d8576b"
             ],
             [
              0.6666666666666666,
              "#ed7953"
             ],
             [
              0.7777777777777778,
              "#fb9f3a"
             ],
             [
              0.8888888888888888,
              "#fdca26"
             ],
             [
              1,
              "#f0f921"
             ]
            ],
            "type": "surface"
           }
          ],
          "table": [
           {
            "cells": {
             "fill": {
              "color": "#EBF0F8"
             },
             "line": {
              "color": "white"
             }
            },
            "header": {
             "fill": {
              "color": "#C8D4E3"
             },
             "line": {
              "color": "white"
             }
            },
            "type": "table"
           }
          ]
         },
         "layout": {
          "annotationdefaults": {
           "arrowcolor": "#2a3f5f",
           "arrowhead": 0,
           "arrowwidth": 1
          },
          "autotypenumbers": "strict",
          "coloraxis": {
           "colorbar": {
            "outlinewidth": 0,
            "ticks": ""
           }
          },
          "colorscale": {
           "diverging": [
            [
             0,
             "#8e0152"
            ],
            [
             0.1,
             "#c51b7d"
            ],
            [
             0.2,
             "#de77ae"
            ],
            [
             0.3,
             "#f1b6da"
            ],
            [
             0.4,
             "#fde0ef"
            ],
            [
             0.5,
             "#f7f7f7"
            ],
            [
             0.6,
             "#e6f5d0"
            ],
            [
             0.7,
             "#b8e186"
            ],
            [
             0.8,
             "#7fbc41"
            ],
            [
             0.9,
             "#4d9221"
            ],
            [
             1,
             "#276419"
            ]
           ],
           "sequential": [
            [
             0,
             "#0d0887"
            ],
            [
             0.1111111111111111,
             "#46039f"
            ],
            [
             0.2222222222222222,
             "#7201a8"
            ],
            [
             0.3333333333333333,
             "#9c179e"
            ],
            [
             0.4444444444444444,
             "#bd3786"
            ],
            [
             0.5555555555555556,
             "#d8576b"
            ],
            [
             0.6666666666666666,
             "#ed7953"
            ],
            [
             0.7777777777777778,
             "#fb9f3a"
            ],
            [
             0.8888888888888888,
             "#fdca26"
            ],
            [
             1,
             "#f0f921"
            ]
           ],
           "sequentialminus": [
            [
             0,
             "#0d0887"
            ],
            [
             0.1111111111111111,
             "#46039f"
            ],
            [
             0.2222222222222222,
             "#7201a8"
            ],
            [
             0.3333333333333333,
             "#9c179e"
            ],
            [
             0.4444444444444444,
             "#bd3786"
            ],
            [
             0.5555555555555556,
             "#d8576b"
            ],
            [
             0.6666666666666666,
             "#ed7953"
            ],
            [
             0.7777777777777778,
             "#fb9f3a"
            ],
            [
             0.8888888888888888,
             "#fdca26"
            ],
            [
             1,
             "#f0f921"
            ]
           ]
          },
          "colorway": [
           "#636efa",
           "#EF553B",
           "#00cc96",
           "#ab63fa",
           "#FFA15A",
           "#19d3f3",
           "#FF6692",
           "#B6E880",
           "#FF97FF",
           "#FECB52"
          ],
          "font": {
           "color": "#2a3f5f"
          },
          "geo": {
           "bgcolor": "white",
           "lakecolor": "white",
           "landcolor": "#E5ECF6",
           "showlakes": true,
           "showland": true,
           "subunitcolor": "white"
          },
          "hoverlabel": {
           "align": "left"
          },
          "hovermode": "closest",
          "mapbox": {
           "style": "light"
          },
          "paper_bgcolor": "white",
          "plot_bgcolor": "#E5ECF6",
          "polar": {
           "angularaxis": {
            "gridcolor": "white",
            "linecolor": "white",
            "ticks": ""
           },
           "bgcolor": "#E5ECF6",
           "radialaxis": {
            "gridcolor": "white",
            "linecolor": "white",
            "ticks": ""
           }
          },
          "scene": {
           "xaxis": {
            "backgroundcolor": "#E5ECF6",
            "gridcolor": "white",
            "gridwidth": 2,
            "linecolor": "white",
            "showbackground": true,
            "ticks": "",
            "zerolinecolor": "white"
           },
           "yaxis": {
            "backgroundcolor": "#E5ECF6",
            "gridcolor": "white",
            "gridwidth": 2,
            "linecolor": "white",
            "showbackground": true,
            "ticks": "",
            "zerolinecolor": "white"
           },
           "zaxis": {
            "backgroundcolor": "#E5ECF6",
            "gridcolor": "white",
            "gridwidth": 2,
            "linecolor": "white",
            "showbackground": true,
            "ticks": "",
            "zerolinecolor": "white"
           }
          },
          "shapedefaults": {
           "line": {
            "color": "#2a3f5f"
           }
          },
          "ternary": {
           "aaxis": {
            "gridcolor": "white",
            "linecolor": "white",
            "ticks": ""
           },
           "baxis": {
            "gridcolor": "white",
            "linecolor": "white",
            "ticks": ""
           },
           "bgcolor": "#E5ECF6",
           "caxis": {
            "gridcolor": "white",
            "linecolor": "white",
            "ticks": ""
           }
          },
          "title": {
           "x": 0.05
          },
          "xaxis": {
           "automargin": true,
           "gridcolor": "white",
           "linecolor": "white",
           "ticks": "",
           "title": {
            "standoff": 15
           },
           "zerolinecolor": "white",
           "zerolinewidth": 2
          },
          "yaxis": {
           "automargin": true,
           "gridcolor": "white",
           "linecolor": "white",
           "ticks": "",
           "title": {
            "standoff": 15
           },
           "zerolinecolor": "white",
           "zerolinewidth": 2
          }
         }
        },
        "title": {
         "text": "Game Results by Psychological Condition"
        },
        "xaxis": {
         "anchor": "y",
         "domain": [
          0,
          1
         ],
         "title": {
          "text": "Psychological Condition"
         }
        },
        "yaxis": {
         "anchor": "x",
         "domain": [
          0,
          1
         ],
         "title": {
          "text": "count"
         }
        }
       }
      }
     },
     "metadata": {},
     "output_type": "display_data"
    }
   ],
   "source": [
    "# interactive plot\n",
    "import plotly.express as px\n",
    "\n",
    "# Convert the crosstab dataframe to a long format for plotly\n",
    "long_df = psych_condition_vs_result.reset_index().melt(id_vars='psychological_condition', \n",
    "                                                       value_vars=['win', 'loss', 'draw'],\n",
    "                                                       var_name='result', value_name='count')\n",
    "\n",
    "# Create an interactive bar chart using plotly\n",
    "fig = px.bar(long_df, x='psychological_condition', y='count', color='result', \n",
    "             title=\"Game Results by Psychological Condition\", \n",
    "             labels={'psychological_condition': 'Psychological Condition'},\n",
    "             color_discrete_sequence=px.colors.sequential.Viridis)\n",
    "\n",
    "fig.show()"
   ]
  },
  {
   "cell_type": "code",
   "execution_count": null,
   "metadata": {},
   "outputs": [],
   "source": [
    "\n"
   ]
  }
 ],
 "metadata": {
  "kernelspec": {
   "display_name": "Python 3 (ipykernel)",
   "language": "python",
   "name": "python3"
  },
  "language_info": {
   "codemirror_mode": {
    "name": "ipython",
    "version": 3
   },
   "file_extension": ".py",
   "mimetype": "text/x-python",
   "name": "python",
   "nbconvert_exporter": "python",
   "pygments_lexer": "ipython3",
   "version": "3.10.11"
  }
 },
 "nbformat": 4,
 "nbformat_minor": 5
}
