{
  "cells": [
    {
      "cell_type": "code",
      "execution_count": 179,
      "metadata": {
        "id": "lH7n1L7bJ0g6"
      },
      "outputs": [],
      "source": [
        "import numpy as np\n",
        "import pandas as pd\n",
        "import matplotlib.pyplot as plt\n",
        "import seaborn as sns\n",
        "import joblib\n",
        "import category_encoders as ce\n",
        "import hvplot.pandas\n",
        "from scipy import stats\n",
        "from sklearn import metrics\n",
        "from sklearn.preprocessing import LabelEncoder, StandardScaler, LabelBinarizer,OneHotEncoder\n",
        "from sklearn.metrics import confusion_matrix,f1_score, make_scorer, classification_report, roc_auc_score, RocCurveDisplay\n",
        "from sklearn.model_selection import StratifiedKFold, train_test_split, RandomizedSearchCV,GridSearchCV,cross_val_score\n",
        "from itertools import cycle\n",
        "from sklearn import preprocessing\n",
        "\n",
        "from lightgbm import LGBMClassifier\n",
        "from xgboost import XGBClassifier\n",
        "from sklearn.neural_network import MLPClassifier"
      ]
    },
    {
      "cell_type": "markdown",
      "metadata": {
        "id": "6ExFaLw7WFhJ"
      },
      "source": [
        "- Besides from the perfect correlation of Grade column with itself, columns like int_rate which is interest rate, out_prncp_inv which is remaining outstanding principal, etc. have high positive correlation with the Grade column and these are quite true as higher the interest rate, higher it is harder for a borrower to pay back a loan.\n",
        "\n",
        "- However, columns like out_prncp_inv, out_prncp, total_rec_int, total_rec_late_fee, inq_last_6mths and revol_util are bound to be higher when a borrower doesn't pay back a loan and thus doesn't carry much significance. So, the column of interest after int_rate could be the dti which is the Debt to Income ratio which understandably will affect if a borrower can pay back a loan or not.\n",
        "\n",
        "- Also, columns like recoveries, total_rev_hi_lim, etc. have negative correlation with the Grade column as a borrower who has paid back money is more likely to repay the loan.\n",
        "\n",
        "- The interest rate is also highly positively correlated with the debt to income ratio. The density of interest rates follow kind of a Gaussian distribution with more density on interest rates between 12%-18%.\n",
        "\n",
        "- Seeing the number of joint applicants in comparison to the the total applicants, it isn't significant enough to conclude that the loan taken by all Joint applicants are paid back.\n",
        "\n",
        "- The annual income of the applicant has high positive correlation with the amount of loan they have taken.\n",
        "\n",
        "- There are more number of loans taken amount from the same states where there are more number of defaulted risk. This is why the state cannot be taken as a major feature for knowing if a loan will be defaulted or not."
      ]
    },
    {
      "cell_type": "markdown",
      "metadata": {
        "id": "_HvZa9c7J0g9"
      },
      "source": [
        "## Data Preprocessing"
      ]
    },
    {
      "cell_type": "code",
      "execution_count": 264,
      "metadata": {
        "id": "lonooeiWeStx"
      },
      "outputs": [],
      "source": [
        "def length_compute(df):\n",
        "  df[\"credit_history_length\"] = (df['issue_d_year'] - df['earliest_cr_line_year']) * 12 + (df['issue_d_month'] - df['earliest_cr_line_month'])\n",
        "  df[\"time_since_last_payment\"] = -(df['issue_d_year'] - df['last_pymnt_d_year']) * 12 + (df['issue_d_month'] - df['last_pymnt_d_month'])\n",
        "  df[\"time_since_last_credit_pull\"] = -(df['issue_d_year'] - df['last_credit_pull_d_year']) * 12 + (df['issue_d_month'] - df['last_credit_pull_d_month'])\n",
        "  df[\"loan_age_at_last_payment\"] = (df['last_pymnt_d_year'] - df['issue_d_year']) * 12 + (df['last_pymnt_d_month'] - df['issue_d_month'])\n",
        "  return df"
      ]
    },
    {
      "cell_type": "code",
      "execution_count": 291,
      "metadata": {
        "id": "SQ5UGJI4W2yJ"
      },
      "outputs": [],
      "source": [
        "def featureEnginering(df, train= False):\n",
        "  df = df.replace({\"10+ years\": 10, \"9 years\": 9,\"8 years\": 8,\"7 years\": 7,\n",
        "                                  \"6 years\": 6,\"5 years\": 5,\"4 years\": 4,\"3 years\": 3,\n",
        "                                  \"2 years\": 2,\"1 year\": 1, \"< 1 year\": 0})\n",
        "\n",
        "  df = df.drop(['verification_status', 'pymnt_plan', 'addr_state',\n",
        "           'initial_list_status', 'hardship_flag', 'disbursement_method', 'debt_settlement_flag',\n",
        "           # drop columns not issued to borrowers\n",
        "           'funded_amnt_inv', 'total_pymnt_inv', 'out_prncp_inv', 'funded_amnt_inv', 'funded_amnt'], axis=1)\n",
        "\n",
        "  # label_encoding\n",
        "  if train == True:\n",
        "    columnsTolabel = ['grade','application_type','term','loan_status']\n",
        "  else:\n",
        "    columnsTolabel = ['application_type' , 'term','loan_status']\n",
        "\n",
        "  for column in columnsTolabel:\n",
        "    label_encoder = LabelEncoder()\n",
        "    df[column] = label_encoder.fit_transform(df[column])\n",
        "\n",
        "  # onehot encoding\n",
        "  encoder = OneHotEncoder(sparse=False)\n",
        "  columnsToOnehot = ['purpose','home_ownership']\n",
        "  for column in columnsToOnehot:\n",
        "    encoded = encoder.fit_transform(df[[column]])\n",
        "    encoded = pd.DataFrame(encoded, columns=encoder.get_feature_names_out())\n",
        "    df = pd.concat([df, encoded], axis=1)\n",
        "    df.drop(column, axis=1, inplace=True)\n",
        "\n",
        "  # Date-Time Features\n",
        "  df = length_compute(df)\n",
        "\n",
        "  return df\n"
      ]
    },
    {
      "cell_type": "markdown",
      "metadata": {
        "id": "zfVdKkXZFnHB"
      },
      "source": [
        "## Data Preparation"
      ]
    },
    {
      "cell_type": "markdown",
      "metadata": {
        "id": "o-6mfNEcKOGZ"
      },
      "source": [
        "### Data preparation"
      ]
    },
    {
      "cell_type": "code",
      "execution_count": null,
      "metadata": {
        "id": "yji_aMJ0J0g_"
      },
      "outputs": [],
      "source": [
        "# import the data\n",
        "train = pd.read_csv('/content/drive/MyDrive/184702-tu-ml-ws-23-loan/loan-10k.lrn.csv')\n",
        "test =  pd.read_csv('/content/drive/MyDrive/184702-tu-ml-ws-23-loan/loan-10k.tes.csv')\n",
        "\n",
        "train = featureEnginering(train,True)\n",
        "test = featureEnginering(test, False)\n",
        "\n",
        "feature_names = list(\n",
        "    filter(lambda x: x not in ['grade', 'ID'], train.columns))\n",
        "\n",
        "X = train[feature_names]\n",
        "y = train['grade']"
      ]
    },
    {
      "cell_type": "code",
      "execution_count": 308,
      "metadata": {
        "id": "3cI-U4ebhTL_"
      },
      "outputs": [],
      "source": [
        "# train test split\n",
        "X_train,X_test,y_train,y_test = train_test_split(X, y, test_size=0.2, random_state=1,shuffle=True, stratify=train.grade)\n",
        "\n",
        "sc=StandardScaler()\n",
        "scaler = sc.fit(X_train)\n",
        "X_train_scaled = scaler.transform(X_train)\n",
        "X_test_scaled = scaler.transform(X_test)"
      ]
    },
    {
      "cell_type": "markdown",
      "metadata": {
        "id": "RMHKJl39I3Vs"
      },
      "source": [
        "### Defined Funcitons"
      ]
    },
    {
      "cell_type": "code",
      "execution_count": 315,
      "metadata": {
        "id": "fsah77Scm3RT"
      },
      "outputs": [],
      "source": [
        "def prediction_test(test, model,  scale =True):\n",
        "  # save model\n",
        "  joblib.dump(model, 'model.pkl')\n",
        "  loaded_model = joblib.load('model.pkl')\n",
        "\n",
        "  prediction = test[['ID']]\n",
        "  test = test.drop('ID', axis=1)\n",
        "  if scale:\n",
        "    test_scaled = scaler.transform(test)\n",
        "    y_pred = loaded_model.predict(test_scaled)\n",
        "  elif scale == False:\n",
        "    y_pred = loaded_model.predict(test)\n",
        "\n",
        "  prediction = pd.concat([prediction, pd.DataFrame(y_pred, columns=['prediction'])], axis=1)\n",
        "  mapping = {0: 'A', 1: 'B', 2: 'C', 3: 'D', 4: 'E', 5: 'F', 6: 'G'}\n",
        "  prediction['grade'] = prediction['prediction'].map(mapping)\n",
        "  prediction.drop(['prediction'], axis=1, inplace=True)\n",
        "\n",
        "  return prediction"
      ]
    },
    {
      "cell_type": "code",
      "execution_count": 295,
      "metadata": {
        "id": "wWq7hVtLCXgn"
      },
      "outputs": [],
      "source": [
        "def optimize_parameters(model, param_grids, other_params, X_train, y_train):\n",
        "    # Parameters fine tunning\n",
        "    GridSearch = pd.DataFrame(columns=['model', 'best_params', 'f1_weighted'])\n",
        "    estimator = model(**other_params)\n",
        "    for param in param_grids:\n",
        "        gsearch = GridSearchCV(estimator, param_grid=param, scoring='f1_weighted', cv=3, verbose = 1)\n",
        "        gsearch.fit(X_train, y_train)\n",
        "        GridSearch = GridSearch.append({'model': str(model),\n",
        "                                  'best_params': gsearch.best_params_,\n",
        "                                  'f1_weighted': gsearch.best_score_},\n",
        "                                  ignore_index=True)\n",
        "        # update best params\n",
        "        scores = gsearch.best_params_\n",
        "        for key in scores.keys():\n",
        "          other_params[key] = scores[key]\n",
        "\n",
        "    return GridSearch"
      ]
    },
    {
      "cell_type": "code",
      "execution_count": 296,
      "metadata": {
        "id": "rkxNEhKwJBEV"
      },
      "outputs": [],
      "source": [
        "def get_metrics(report):\n",
        "  macro_f1_score = float(report_gbm.split('\\n')[-3].split()[4])\n",
        "  weighted_scores = report.split('\\n')[-2].split()[2:]\n",
        "  weighted_f1_score = float(weighted_scores[2])\n",
        "\n",
        "  f1_score_GradeD = float(report.split(\"\\n\")[-9].split()[2:][1])\n",
        "  f1_score_GradeE = float(report.split(\"\\n\")[-8].split()[2:][1])\n",
        "  f1_score_GradeF = float(report.split(\"\\n\")[-7].split()[2:][1])\n",
        "\n",
        "  return macro_f1_score, weighted_f1_score, f1_score_GradeD, f1_score_GradeE, f1_score_GradeF"
      ]
    },
    {
      "cell_type": "markdown",
      "metadata": {
        "id": "PDtUO3lVGXh_"
      },
      "source": [
        "## Model Prediction"
      ]
    },
    {
      "cell_type": "code",
      "execution_count": null,
      "metadata": {
        "id": "2HeVdmcduG7C"
      },
      "outputs": [],
      "source": [
        "# The impact on scaling\n",
        "models = [LGBMClassifier(),\n",
        "          XGBClassifier(),\n",
        "          MLPClassifier() ]\n",
        "\n",
        "result = dict()\n",
        "for model in models:\n",
        "    model_name1 = str(model).split('(')[0][:-10]\n",
        "    scores1 = cross_val_score(model, X = X_train, y=y_train, verbose=0, cv = 5, scoring='f1_weighted')\n",
        "    result[model_name1] = scores1\n",
        "\n",
        "    model_name2 = str(model).split('(')[0][:-10]+ '_Xscaled'\n",
        "    scores2 = cross_val_score(model, X = X_train_scaled, y=y_train, verbose=0, cv = 5, scoring='f1_weighted')\n",
        "    result[model_name2] = scores2\n",
        "\n",
        "result = pd.DataFrame(result)\n",
        "result.index = ['cv' + str(x) for x in range(1, 6)]"
      ]
    },
    {
      "cell_type": "code",
      "execution_count": 299,
      "metadata": {
        "colab": {
          "base_uri": "https://localhost:8080/",
          "height": 201
        },
        "id": "eyzx3TXFfxbH",
        "outputId": "190ea362-0402-4e0f-d21b-186fed737fb9"
      },
      "outputs": [
        {
          "data": {
            "text/html": [
              "\n",
              "  <div id=\"df-ac7e973d-dfb8-4aa0-97ca-146df3a564b7\" class=\"colab-df-container\">\n",
              "    <div>\n",
              "<style scoped>\n",
              "    .dataframe tbody tr th:only-of-type {\n",
              "        vertical-align: middle;\n",
              "    }\n",
              "\n",
              "    .dataframe tbody tr th {\n",
              "        vertical-align: top;\n",
              "    }\n",
              "\n",
              "    .dataframe thead th {\n",
              "        text-align: right;\n",
              "    }\n",
              "</style>\n",
              "<table border=\"1\" class=\"dataframe\">\n",
              "  <thead>\n",
              "    <tr style=\"text-align: right;\">\n",
              "      <th></th>\n",
              "      <th>LGBM</th>\n",
              "      <th>LGBM_Xscaled</th>\n",
              "      <th>XGB</th>\n",
              "      <th>XGB_Xscaled</th>\n",
              "      <th>MLP</th>\n",
              "      <th>MLP_Xscaled</th>\n",
              "    </tr>\n",
              "  </thead>\n",
              "  <tbody>\n",
              "    <tr>\n",
              "      <th>cv1</th>\n",
              "      <td>0.989468</td>\n",
              "      <td>0.989484</td>\n",
              "      <td>0.988880</td>\n",
              "      <td>0.988880</td>\n",
              "      <td>0.304006</td>\n",
              "      <td>0.822001</td>\n",
              "    </tr>\n",
              "    <tr>\n",
              "      <th>cv2</th>\n",
              "      <td>0.981581</td>\n",
              "      <td>0.982886</td>\n",
              "      <td>0.975452</td>\n",
              "      <td>0.975452</td>\n",
              "      <td>0.322019</td>\n",
              "      <td>0.838477</td>\n",
              "    </tr>\n",
              "    <tr>\n",
              "      <th>cv3</th>\n",
              "      <td>0.994494</td>\n",
              "      <td>0.995097</td>\n",
              "      <td>0.989428</td>\n",
              "      <td>0.989428</td>\n",
              "      <td>0.401062</td>\n",
              "      <td>0.851210</td>\n",
              "    </tr>\n",
              "    <tr>\n",
              "      <th>cv4</th>\n",
              "      <td>0.990330</td>\n",
              "      <td>0.989654</td>\n",
              "      <td>0.983176</td>\n",
              "      <td>0.983176</td>\n",
              "      <td>0.327703</td>\n",
              "      <td>0.833560</td>\n",
              "    </tr>\n",
              "    <tr>\n",
              "      <th>cv5</th>\n",
              "      <td>0.992934</td>\n",
              "      <td>0.991714</td>\n",
              "      <td>0.988970</td>\n",
              "      <td>0.988970</td>\n",
              "      <td>0.352843</td>\n",
              "      <td>0.823676</td>\n",
              "    </tr>\n",
              "  </tbody>\n",
              "</table>\n",
              "</div>\n",
              "    <div class=\"colab-df-buttons\">\n",
              "\n",
              "  <div class=\"colab-df-container\">\n",
              "    <button class=\"colab-df-convert\" onclick=\"convertToInteractive('df-ac7e973d-dfb8-4aa0-97ca-146df3a564b7')\"\n",
              "            title=\"Convert this dataframe to an interactive table.\"\n",
              "            style=\"display:none;\">\n",
              "\n",
              "  <svg xmlns=\"http://www.w3.org/2000/svg\" height=\"24px\" viewBox=\"0 -960 960 960\">\n",
              "    <path d=\"M120-120v-720h720v720H120Zm60-500h600v-160H180v160Zm220 220h160v-160H400v160Zm0 220h160v-160H400v160ZM180-400h160v-160H180v160Zm440 0h160v-160H620v160ZM180-180h160v-160H180v160Zm440 0h160v-160H620v160Z\"/>\n",
              "  </svg>\n",
              "    </button>\n",
              "\n",
              "  <style>\n",
              "    .colab-df-container {\n",
              "      display:flex;\n",
              "      gap: 12px;\n",
              "    }\n",
              "\n",
              "    .colab-df-convert {\n",
              "      background-color: #E8F0FE;\n",
              "      border: none;\n",
              "      border-radius: 50%;\n",
              "      cursor: pointer;\n",
              "      display: none;\n",
              "      fill: #1967D2;\n",
              "      height: 32px;\n",
              "      padding: 0 0 0 0;\n",
              "      width: 32px;\n",
              "    }\n",
              "\n",
              "    .colab-df-convert:hover {\n",
              "      background-color: #E2EBFA;\n",
              "      box-shadow: 0px 1px 2px rgba(60, 64, 67, 0.3), 0px 1px 3px 1px rgba(60, 64, 67, 0.15);\n",
              "      fill: #174EA6;\n",
              "    }\n",
              "\n",
              "    .colab-df-buttons div {\n",
              "      margin-bottom: 4px;\n",
              "    }\n",
              "\n",
              "    [theme=dark] .colab-df-convert {\n",
              "      background-color: #3B4455;\n",
              "      fill: #D2E3FC;\n",
              "    }\n",
              "\n",
              "    [theme=dark] .colab-df-convert:hover {\n",
              "      background-color: #434B5C;\n",
              "      box-shadow: 0px 1px 3px 1px rgba(0, 0, 0, 0.15);\n",
              "      filter: drop-shadow(0px 1px 2px rgba(0, 0, 0, 0.3));\n",
              "      fill: #FFFFFF;\n",
              "    }\n",
              "  </style>\n",
              "\n",
              "    <script>\n",
              "      const buttonEl =\n",
              "        document.querySelector('#df-ac7e973d-dfb8-4aa0-97ca-146df3a564b7 button.colab-df-convert');\n",
              "      buttonEl.style.display =\n",
              "        google.colab.kernel.accessAllowed ? 'block' : 'none';\n",
              "\n",
              "      async function convertToInteractive(key) {\n",
              "        const element = document.querySelector('#df-ac7e973d-dfb8-4aa0-97ca-146df3a564b7');\n",
              "        const dataTable =\n",
              "          await google.colab.kernel.invokeFunction('convertToInteractive',\n",
              "                                                    [key], {});\n",
              "        if (!dataTable) return;\n",
              "\n",
              "        const docLinkHtml = 'Like what you see? Visit the ' +\n",
              "          '<a target=\"_blank\" href=https://colab.research.google.com/notebooks/data_table.ipynb>data table notebook</a>'\n",
              "          + ' to learn more about interactive tables.';\n",
              "        element.innerHTML = '';\n",
              "        dataTable['output_type'] = 'display_data';\n",
              "        await google.colab.output.renderOutput(dataTable, element);\n",
              "        const docLink = document.createElement('div');\n",
              "        docLink.innerHTML = docLinkHtml;\n",
              "        element.appendChild(docLink);\n",
              "      }\n",
              "    </script>\n",
              "  </div>\n",
              "\n",
              "\n",
              "<div id=\"df-a686c7e8-5dd2-4226-a32f-086c0aa808c8\">\n",
              "  <button class=\"colab-df-quickchart\" onclick=\"quickchart('df-a686c7e8-5dd2-4226-a32f-086c0aa808c8')\"\n",
              "            title=\"Suggest charts\"\n",
              "            style=\"display:none;\">\n",
              "\n",
              "<svg xmlns=\"http://www.w3.org/2000/svg\" height=\"24px\"viewBox=\"0 0 24 24\"\n",
              "     width=\"24px\">\n",
              "    <g>\n",
              "        <path d=\"M19 3H5c-1.1 0-2 .9-2 2v14c0 1.1.9 2 2 2h14c1.1 0 2-.9 2-2V5c0-1.1-.9-2-2-2zM9 17H7v-7h2v7zm4 0h-2V7h2v10zm4 0h-2v-4h2v4z\"/>\n",
              "    </g>\n",
              "</svg>\n",
              "  </button>\n",
              "\n",
              "<style>\n",
              "  .colab-df-quickchart {\n",
              "      --bg-color: #E8F0FE;\n",
              "      --fill-color: #1967D2;\n",
              "      --hover-bg-color: #E2EBFA;\n",
              "      --hover-fill-color: #174EA6;\n",
              "      --disabled-fill-color: #AAA;\n",
              "      --disabled-bg-color: #DDD;\n",
              "  }\n",
              "\n",
              "  [theme=dark] .colab-df-quickchart {\n",
              "      --bg-color: #3B4455;\n",
              "      --fill-color: #D2E3FC;\n",
              "      --hover-bg-color: #434B5C;\n",
              "      --hover-fill-color: #FFFFFF;\n",
              "      --disabled-bg-color: #3B4455;\n",
              "      --disabled-fill-color: #666;\n",
              "  }\n",
              "\n",
              "  .colab-df-quickchart {\n",
              "    background-color: var(--bg-color);\n",
              "    border: none;\n",
              "    border-radius: 50%;\n",
              "    cursor: pointer;\n",
              "    display: none;\n",
              "    fill: var(--fill-color);\n",
              "    height: 32px;\n",
              "    padding: 0;\n",
              "    width: 32px;\n",
              "  }\n",
              "\n",
              "  .colab-df-quickchart:hover {\n",
              "    background-color: var(--hover-bg-color);\n",
              "    box-shadow: 0 1px 2px rgba(60, 64, 67, 0.3), 0 1px 3px 1px rgba(60, 64, 67, 0.15);\n",
              "    fill: var(--button-hover-fill-color);\n",
              "  }\n",
              "\n",
              "  .colab-df-quickchart-complete:disabled,\n",
              "  .colab-df-quickchart-complete:disabled:hover {\n",
              "    background-color: var(--disabled-bg-color);\n",
              "    fill: var(--disabled-fill-color);\n",
              "    box-shadow: none;\n",
              "  }\n",
              "\n",
              "  .colab-df-spinner {\n",
              "    border: 2px solid var(--fill-color);\n",
              "    border-color: transparent;\n",
              "    border-bottom-color: var(--fill-color);\n",
              "    animation:\n",
              "      spin 1s steps(1) infinite;\n",
              "  }\n",
              "\n",
              "  @keyframes spin {\n",
              "    0% {\n",
              "      border-color: transparent;\n",
              "      border-bottom-color: var(--fill-color);\n",
              "      border-left-color: var(--fill-color);\n",
              "    }\n",
              "    20% {\n",
              "      border-color: transparent;\n",
              "      border-left-color: var(--fill-color);\n",
              "      border-top-color: var(--fill-color);\n",
              "    }\n",
              "    30% {\n",
              "      border-color: transparent;\n",
              "      border-left-color: var(--fill-color);\n",
              "      border-top-color: var(--fill-color);\n",
              "      border-right-color: var(--fill-color);\n",
              "    }\n",
              "    40% {\n",
              "      border-color: transparent;\n",
              "      border-right-color: var(--fill-color);\n",
              "      border-top-color: var(--fill-color);\n",
              "    }\n",
              "    60% {\n",
              "      border-color: transparent;\n",
              "      border-right-color: var(--fill-color);\n",
              "    }\n",
              "    80% {\n",
              "      border-color: transparent;\n",
              "      border-right-color: var(--fill-color);\n",
              "      border-bottom-color: var(--fill-color);\n",
              "    }\n",
              "    90% {\n",
              "      border-color: transparent;\n",
              "      border-bottom-color: var(--fill-color);\n",
              "    }\n",
              "  }\n",
              "</style>\n",
              "\n",
              "  <script>\n",
              "    async function quickchart(key) {\n",
              "      const quickchartButtonEl =\n",
              "        document.querySelector('#' + key + ' button');\n",
              "      quickchartButtonEl.disabled = true;  // To prevent multiple clicks.\n",
              "      quickchartButtonEl.classList.add('colab-df-spinner');\n",
              "      try {\n",
              "        const charts = await google.colab.kernel.invokeFunction(\n",
              "            'suggestCharts', [key], {});\n",
              "      } catch (error) {\n",
              "        console.error('Error during call to suggestCharts:', error);\n",
              "      }\n",
              "      quickchartButtonEl.classList.remove('colab-df-spinner');\n",
              "      quickchartButtonEl.classList.add('colab-df-quickchart-complete');\n",
              "    }\n",
              "    (() => {\n",
              "      let quickchartButtonEl =\n",
              "        document.querySelector('#df-a686c7e8-5dd2-4226-a32f-086c0aa808c8 button');\n",
              "      quickchartButtonEl.style.display =\n",
              "        google.colab.kernel.accessAllowed ? 'block' : 'none';\n",
              "    })();\n",
              "  </script>\n",
              "</div>\n",
              "    </div>\n",
              "  </div>\n"
            ],
            "text/plain": [
              "         LGBM  LGBM_Xscaled       XGB  XGB_Xscaled       MLP  MLP_Xscaled\n",
              "cv1  0.989468      0.989484  0.988880     0.988880  0.304006     0.822001\n",
              "cv2  0.981581      0.982886  0.975452     0.975452  0.322019     0.838477\n",
              "cv3  0.994494      0.995097  0.989428     0.989428  0.401062     0.851210\n",
              "cv4  0.990330      0.989654  0.983176     0.983176  0.327703     0.833560\n",
              "cv5  0.992934      0.991714  0.988970     0.988970  0.352843     0.823676"
            ]
          },
          "execution_count": 299,
          "metadata": {},
          "output_type": "execute_result"
        }
      ],
      "source": [
        "result"
      ]
    },
    {
      "cell_type": "code",
      "execution_count": 300,
      "metadata": {
        "colab": {
          "base_uri": "https://localhost:8080/",
          "height": 451
        },
        "id": "BraojlCKZTpm",
        "outputId": "57d567cc-9aaa-4413-c2c0-bea1f3cd5b40"
      },
      "outputs": [
        {
          "data": {
            "image/png": "[encoded data removed]",
            "text/plain": [
              "<Figure size 640x480 with 1 Axes>"
            ]
          },
          "metadata": {},
          "output_type": "display_data"
        }
      ],
      "source": [
        "# plot the scaling result\n",
        "model_unscaled = {'LGBM': 0.994494, 'XGB': 0.989428, 'MLP': 0.401062}\n",
        "model_scaled = {'LGBM': 0.995097, 'XGB': 0.989428, 'MLP': 0.851210}\n",
        "\n",
        "result_plot = pd.DataFrame({'Model': model_unscaled.keys(),\n",
        "                   'Model without Scaling': model_unscaled.values(),\n",
        "                   'Model with Scaling': model_scaled.values()})\n",
        "\n",
        "import seaborn as sns\n",
        "fig, ax = plt.subplots()\n",
        "sns.set(style=\"white\")\n",
        "x = range(len(model_unscaled))\n",
        "ax.bar(x, model_unscaled.values(), width=0.4, align='center', label='Without Scaling')\n",
        "ax.bar(x, model_scaled.values(), width=0.4, align='edge', label='With Scaling')\n",
        "plt.xticks(x, model_unscaled.keys())\n",
        "plt.ylabel('Performance Metrics')\n",
        "plt.title('Comparison of Model Performance With and Without Scaling')\n",
        "plt.legend()\n",
        "plt.show()"
      ]
    },
    {
      "cell_type": "markdown",
      "metadata": {
        "id": "3oFFYfEgbsAF"
      },
      "source": [
        "### Model1 : LGBMClassifier"
      ]
    },
    {
      "cell_type": "code",
      "execution_count": null,
      "metadata": {
        "id": "m4zvilyARU0t"
      },
      "outputs": [],
      "source": [
        "# LGBMClassifier\n",
        "gbm = LGBMClassifier(class_weight='balanced')\n",
        "gbm.fit(X_train, y_train, eval_set=[(X_test, y_test)])\n",
        "y_pred_gbm = gbm.predict(X_test)\n",
        "#report\n",
        "report_gbm = classification_report(y_test, y_pred_gbm)\n",
        "macro_f1_score_gbm, f1_score_gbm, f1_GradeD_gbm, f1_GradeE_gbm, f1_GradeF_gbm = get_metrics(report_gbm)"
      ]
    },
    {
      "cell_type": "code",
      "execution_count": 333,
      "metadata": {
        "colab": {
          "base_uri": "https://localhost:8080/"
        },
        "id": "1XOrd_ktRXhR",
        "outputId": "f0ed1dcc-4d35-47f0-e8f9-1ae4c7f59970"
      },
      "outputs": [
        {
          "name": "stdout",
          "output_type": "stream",
          "text": [
            "              precision    recall  f1-score   support\n",
            "\n",
            "           0       1.00      1.00      1.00       364\n",
            "           1       1.00      1.00      1.00       576\n",
            "           2       1.00      1.00      1.00       598\n",
            "           3       0.98      0.99      0.99       290\n",
            "           4       0.97      0.94      0.96       124\n",
            "           5       0.89      0.86      0.88        37\n",
            "           6       0.82      0.82      0.82        11\n",
            "\n",
            "    accuracy                           0.99      2000\n",
            "   macro avg       0.95      0.94      0.95      2000\n",
            "weighted avg       0.99      0.99      0.99      2000\n",
            "\n"
          ]
        }
      ],
      "source": [
        "print(report_gbm)"
      ]
    },
    {
      "cell_type": "code",
      "execution_count": null,
      "metadata": {
        "id": "ArzeEUd4rQmF"
      },
      "outputs": [],
      "source": [
        "# LGBMClassifier\n",
        "gbm_ = LGBMClassifier(class_weight='balanced',learning_rate=0.01, n_estimators=1000, num_leaves=20, reg_alpha=0, reg_lambda=0.5)\n",
        "gbm_.fit(X_train, y_train, eval_set=[(X_test, y_test)])\n",
        "y_pred_gbm = gbm_.predict(X_test)\n",
        "#report\n",
        "report_gbm = classification_report(y_test, y_pred_gbm)\n",
        "macro_f1_score_gbm, f1_score_gbm, f1_GradeD_gbm, f1_GradeE_gbm, f1_GradeF_gbm = get_metrics(report_gbm)"
      ]
    },
    {
      "cell_type": "code",
      "execution_count": 322,
      "metadata": {
        "colab": {
          "base_uri": "https://localhost:8080/"
        },
        "id": "JU1IxnPZJiQG",
        "outputId": "b1d60bb5-433d-4de6-dbda-3b9e8305dffb"
      },
      "outputs": [
        {
          "name": "stdout",
          "output_type": "stream",
          "text": [
            "              precision    recall  f1-score   support\n",
            "\n",
            "           0       1.00      0.99      1.00       364\n",
            "           1       1.00      1.00      1.00       576\n",
            "           2       0.99      1.00      1.00       598\n",
            "           3       0.98      0.99      0.98       290\n",
            "           4       0.96      0.94      0.95       124\n",
            "           5       0.89      0.84      0.86        37\n",
            "           6       0.82      0.82      0.82        11\n",
            "\n",
            "    accuracy                           0.99      2000\n",
            "   macro avg       0.95      0.94      0.94      2000\n",
            "weighted avg       0.99      0.99      0.99      2000\n",
            "\n"
          ]
        }
      ],
      "source": [
        "print(report_gbm)"
      ]
    },
    {
      "cell_type": "code",
      "execution_count": 372,
      "metadata": {
        "colab": {
          "base_uri": "https://localhost:8080/"
        },
        "id": "2R1tYlqItLnI",
        "outputId": "12ce47dc-a3fa-4012-925c-c9c5868bb503"
      },
      "outputs": [
        {
          "data": {
            "text/plain": [
              "array([[363,   1,   0,   0,   0,   0,   0],\n",
              "       [  0, 575,   1,   0,   0,   0,   0],\n",
              "       [  0,   0, 597,   1,   0,   0,   0],\n",
              "       [  0,   0,   1, 288,   1,   0,   0],\n",
              "       [  0,   0,   0,   5, 117,   2,   0],\n",
              "       [  0,   0,   0,   0,   3,  32,   2],\n",
              "       [  0,   0,   0,   0,   0,   2,   9]])"
            ]
          },
          "execution_count": 372,
          "metadata": {},
          "output_type": "execute_result"
        }
      ],
      "source": [
        "confusion_matrix(y_test, y_pred_gbm)"
      ]
    },
    {
      "cell_type": "code",
      "execution_count": 375,
      "metadata": {
        "colab": {
          "base_uri": "https://localhost:8080/",
          "height": 727
        },
        "id": "XSh9aPjmrO0j",
        "outputId": "72a98ead-d5f4-4395-c59f-764fd508dda4"
      },
      "outputs": [
        {
          "data": {
            "image/png": "[encoded data removed]",
            "text/plain": [
              "<Figure size 1000x800 with 2 Axes>"
            ]
          },
          "metadata": {},
          "output_type": "display_data"
        }
      ],
      "source": [
        "# plot confusion matrix\n",
        "class_labels = ['A', 'B', 'C', 'D', 'E', 'F', 'G']\n",
        "cm_gbm = confusion_matrix(y_test, y_pred_gbm)\n",
        "\n",
        "plt.figure(figsize=(10, 8))\n",
        "sns.heatmap(cm_gbm, annot=True, fmt=\"d\", cmap='Blues', xticklabels=class_labels, yticklabels=class_labels)\n",
        "plt.ylabel('Actual Labels')\n",
        "plt.xlabel('Predicted Labels')\n",
        "plt.title('Confusion Matrix')\n",
        "plt.show()"
      ]
    },
    {
      "cell_type": "code",
      "execution_count": 334,
      "metadata": {
        "colab": {
          "base_uri": "https://localhost:8080/",
          "height": 950
        },
        "id": "NXHaeBvquC5l",
        "outputId": "6dfe0076-fa10-42b6-9854-186ab19d66d6"
      },
      "outputs": [
        {
          "data": {
            "image/png": "[encoded data removed]",
            "text/plain": [
              "<Figure size 800x950 with 1 Axes>"
            ]
          },
          "metadata": {},
          "output_type": "display_data"
        }
      ],
      "source": [
        "import shap\n",
        "explainer = shap.TreeExplainer(gbm)\n",
        "shap_values = explainer.shap_values(X_test)\n",
        "shap.summary_plot(shap_values, X_test)"
      ]
    },
    {
      "cell_type": "code",
      "execution_count": null,
      "metadata": {
        "id": "ZGAMjwAdCoHC"
      },
      "outputs": [],
      "source": [
        "# Fine tunning\n",
        "param_grids_gbm = [{'n_estimators': [400, 600, 1000]}\n",
        "                   {'max_depth': [4,6,8],'num_leaves': [20,30,40],}, \n",
        "                   {'min_child_samples': [18,19,20,21,22],'min_child_weight': [0.001,0.002]},\n",
        "                   {'feature_fraction': [0.6, 0.8, 1]}, \n",
        "                   {'bagging_fraction': [0.8,0.9,1],'bagging_freq': [2,3,4]}]\n",
        "\n",
        "\n",
        "other_params_gbm = {'learning_rate': 0.1, 'n_estimators': 200, 'max_depth': 6, 'min_child_samples':21, 'min_child_weight': 0.001,\n",
        "                    'feature_fraction': 0.7, 'bagging_fraction': 1, 'bagging_freq': 2,'reg_alpha': 0.001, 'reg_lambda': 8}\n",
        "\n",
        "GridSearch_gbm = optimize_parameters(LGBMClassifier, param_grids_gbm, other_params_gbm, X_train, y_train)\n",
        "GridSearch_gbm['model'] = 'LGBMClassifier'\n",
        "\n",
        "# Best params:\n",
        "gbm_bestParams= [{'max_depth': 6, 'num_leaves': 20},\n",
        "             {'min_child_samples': 19, 'min_child_weight': 0.001},\n",
        "             {'feature_fraction': 0.8},\n",
        "             {'bagging_fraction': 1, 'bagging_freq': 2}]"
      ]
    },
    {
      "cell_type": "code",
      "execution_count": 95,
      "metadata": {
        "colab": {
          "base_uri": "https://localhost:8080/",
          "height": 170
        },
        "id": "Zx6Ikyo0-Vk-",
        "outputId": "37add08a-3740-451a-fea3-7fdb0b047ef2"
      },
      "outputs": [
        {
          "data": {
            "text/html": [
              "\n",
              "  <div id=\"df-6cb65e02-c0fe-4a42-ab5d-8abd3d6fa84b\" class=\"colab-df-container\">\n",
              "    <div>\n",
              "<style scoped>\n",
              "    .dataframe tbody tr th:only-of-type {\n",
              "        vertical-align: middle;\n",
              "    }\n",
              "\n",
              "    .dataframe tbody tr th {\n",
              "        vertical-align: top;\n",
              "    }\n",
              "\n",
              "    .dataframe thead th {\n",
              "        text-align: right;\n",
              "    }\n",
              "</style>\n",
              "<table border=\"1\" class=\"dataframe\">\n",
              "  <thead>\n",
              "    <tr style=\"text-align: right;\">\n",
              "      <th></th>\n",
              "      <th>model</th>\n",
              "      <th>best_params</th>\n",
              "      <th>f1_weighted</th>\n",
              "    </tr>\n",
              "  </thead>\n",
              "  <tbody>\n",
              "    <tr>\n",
              "      <th>0</th>\n",
              "      <td>LGBMClassifier</td>\n",
              "      <td>{'max_depth': 8, 'num_leaves': 20}</td>\n",
              "      <td>0.921489</td>\n",
              "    </tr>\n",
              "    <tr>\n",
              "      <th>1</th>\n",
              "      <td>LGBMClassifier</td>\n",
              "      <td>{'min_child_samples': 18, 'min_child_weight': ...</td>\n",
              "      <td>0.920083</td>\n",
              "    </tr>\n",
              "    <tr>\n",
              "      <th>2</th>\n",
              "      <td>LGBMClassifier</td>\n",
              "      <td>{'feature_fraction': 1}</td>\n",
              "      <td>0.922553</td>\n",
              "    </tr>\n",
              "    <tr>\n",
              "      <th>3</th>\n",
              "      <td>LGBMClassifier</td>\n",
              "      <td>{'bagging_fraction': 1, 'bagging_freq': 2}</td>\n",
              "      <td>0.919684</td>\n",
              "    </tr>\n",
              "  </tbody>\n",
              "</table>\n",
              "</div>\n",
              "    <div class=\"colab-df-buttons\">\n",
              "\n",
              "  <div class=\"colab-df-container\">\n",
              "    <button class=\"colab-df-convert\" onclick=\"convertToInteractive('df-6cb65e02-c0fe-4a42-ab5d-8abd3d6fa84b')\"\n",
              "            title=\"Convert this dataframe to an interactive table.\"\n",
              "            style=\"display:none;\">\n",
              "\n",
              "  <svg xmlns=\"http://www.w3.org/2000/svg\" height=\"24px\" viewBox=\"0 -960 960 960\">\n",
              "    <path d=\"M120-120v-720h720v720H120Zm60-500h600v-160H180v160Zm220 220h160v-160H400v160Zm0 220h160v-160H400v160ZM180-400h160v-160H180v160Zm440 0h160v-160H620v160ZM180-180h160v-160H180v160Zm440 0h160v-160H620v160Z\"/>\n",
              "  </svg>\n",
              "    </button>\n",
              "\n",
              "  <style>\n",
              "    .colab-df-container {\n",
              "      display:flex;\n",
              "      gap: 12px;\n",
              "    }\n",
              "\n",
              "    .colab-df-convert {\n",
              "      background-color: #E8F0FE;\n",
              "      border: none;\n",
              "      border-radius: 50%;\n",
              "      cursor: pointer;\n",
              "      display: none;\n",
              "      fill: #1967D2;\n",
              "      height: 32px;\n",
              "      padding: 0 0 0 0;\n",
              "      width: 32px;\n",
              "    }\n",
              "\n",
              "    .colab-df-convert:hover {\n",
              "      background-color: #E2EBFA;\n",
              "      box-shadow: 0px 1px 2px rgba(60, 64, 67, 0.3), 0px 1px 3px 1px rgba(60, 64, 67, 0.15);\n",
              "      fill: #174EA6;\n",
              "    }\n",
              "\n",
              "    .colab-df-buttons div {\n",
              "      margin-bottom: 4px;\n",
              "    }\n",
              "\n",
              "    [theme=dark] .colab-df-convert {\n",
              "      background-color: #3B4455;\n",
              "      fill: #D2E3FC;\n",
              "    }\n",
              "\n",
              "    [theme=dark] .colab-df-convert:hover {\n",
              "      background-color: #434B5C;\n",
              "      box-shadow: 0px 1px 3px 1px rgba(0, 0, 0, 0.15);\n",
              "      filter: drop-shadow(0px 1px 2px rgba(0, 0, 0, 0.3));\n",
              "      fill: #FFFFFF;\n",
              "    }\n",
              "  </style>\n",
              "\n",
              "    <script>\n",
              "      const buttonEl =\n",
              "        document.querySelector('#df-6cb65e02-c0fe-4a42-ab5d-8abd3d6fa84b button.colab-df-convert');\n",
              "      buttonEl.style.display =\n",
              "        google.colab.kernel.accessAllowed ? 'block' : 'none';\n",
              "\n",
              "      async function convertToInteractive(key) {\n",
              "        const element = document.querySelector('#df-6cb65e02-c0fe-4a42-ab5d-8abd3d6fa84b');\n",
              "        const dataTable =\n",
              "          await google.colab.kernel.invokeFunction('convertToInteractive',\n",
              "                                                    [key], {});\n",
              "        if (!dataTable) return;\n",
              "\n",
              "        const docLinkHtml = 'Like what you see? Visit the ' +\n",
              "          '<a target=\"_blank\" href=https://colab.research.google.com/notebooks/data_table.ipynb>data table notebook</a>'\n",
              "          + ' to learn more about interactive tables.';\n",
              "        element.innerHTML = '';\n",
              "        dataTable['output_type'] = 'display_data';\n",
              "        await google.colab.output.renderOutput(dataTable, element);\n",
              "        const docLink = document.createElement('div');\n",
              "        docLink.innerHTML = docLinkHtml;\n",
              "        element.appendChild(docLink);\n",
              "      }\n",
              "    </script>\n",
              "  </div>\n",
              "\n",
              "\n",
              "<div id=\"df-0868e477-f22c-4dd3-bb56-02dc67ba787c\">\n",
              "  <button class=\"colab-df-quickchart\" onclick=\"quickchart('df-0868e477-f22c-4dd3-bb56-02dc67ba787c')\"\n",
              "            title=\"Suggest charts\"\n",
              "            style=\"display:none;\">\n",
              "\n",
              "<svg xmlns=\"http://www.w3.org/2000/svg\" height=\"24px\"viewBox=\"0 0 24 24\"\n",
              "     width=\"24px\">\n",
              "    <g>\n",
              "        <path d=\"M19 3H5c-1.1 0-2 .9-2 2v14c0 1.1.9 2 2 2h14c1.1 0 2-.9 2-2V5c0-1.1-.9-2-2-2zM9 17H7v-7h2v7zm4 0h-2V7h2v10zm4 0h-2v-4h2v4z\"/>\n",
              "    </g>\n",
              "</svg>\n",
              "  </button>\n",
              "\n",
              "<style>\n",
              "  .colab-df-quickchart {\n",
              "      --bg-color: #E8F0FE;\n",
              "      --fill-color: #1967D2;\n",
              "      --hover-bg-color: #E2EBFA;\n",
              "      --hover-fill-color: #174EA6;\n",
              "      --disabled-fill-color: #AAA;\n",
              "      --disabled-bg-color: #DDD;\n",
              "  }\n",
              "\n",
              "  [theme=dark] .colab-df-quickchart {\n",
              "      --bg-color: #3B4455;\n",
              "      --fill-color: #D2E3FC;\n",
              "      --hover-bg-color: #434B5C;\n",
              "      --hover-fill-color: #FFFFFF;\n",
              "      --disabled-bg-color: #3B4455;\n",
              "      --disabled-fill-color: #666;\n",
              "  }\n",
              "\n",
              "  .colab-df-quickchart {\n",
              "    background-color: var(--bg-color);\n",
              "    border: none;\n",
              "    border-radius: 50%;\n",
              "    cursor: pointer;\n",
              "    display: none;\n",
              "    fill: var(--fill-color);\n",
              "    height: 32px;\n",
              "    padding: 0;\n",
              "    width: 32px;\n",
              "  }\n",
              "\n",
              "  .colab-df-quickchart:hover {\n",
              "    background-color: var(--hover-bg-color);\n",
              "    box-shadow: 0 1px 2px rgba(60, 64, 67, 0.3), 0 1px 3px 1px rgba(60, 64, 67, 0.15);\n",
              "    fill: var(--button-hover-fill-color);\n",
              "  }\n",
              "\n",
              "  .colab-df-quickchart-complete:disabled,\n",
              "  .colab-df-quickchart-complete:disabled:hover {\n",
              "    background-color: var(--disabled-bg-color);\n",
              "    fill: var(--disabled-fill-color);\n",
              "    box-shadow: none;\n",
              "  }\n",
              "\n",
              "  .colab-df-spinner {\n",
              "    border: 2px solid var(--fill-color);\n",
              "    border-color: transparent;\n",
              "    border-bottom-color: var(--fill-color);\n",
              "    animation:\n",
              "      spin 1s steps(1) infinite;\n",
              "  }\n",
              "\n",
              "  @keyframes spin {\n",
              "    0% {\n",
              "      border-color: transparent;\n",
              "      border-bottom-color: var(--fill-color);\n",
              "      border-left-color: var(--fill-color);\n",
              "    }\n",
              "    20% {\n",
              "      border-color: transparent;\n",
              "      border-left-color: var(--fill-color);\n",
              "      border-top-color: var(--fill-color);\n",
              "    }\n",
              "    30% {\n",
              "      border-color: transparent;\n",
              "      border-left-color: var(--fill-color);\n",
              "      border-top-color: var(--fill-color);\n",
              "      border-right-color: var(--fill-color);\n",
              "    }\n",
              "    40% {\n",
              "      border-color: transparent;\n",
              "      border-right-color: var(--fill-color);\n",
              "      border-top-color: var(--fill-color);\n",
              "    }\n",
              "    60% {\n",
              "      border-color: transparent;\n",
              "      border-right-color: var(--fill-color);\n",
              "    }\n",
              "    80% {\n",
              "      border-color: transparent;\n",
              "      border-right-color: var(--fill-color);\n",
              "      border-bottom-color: var(--fill-color);\n",
              "    }\n",
              "    90% {\n",
              "      border-color: transparent;\n",
              "      border-bottom-color: var(--fill-color);\n",
              "    }\n",
              "  }\n",
              "</style>\n",
              "\n",
              "  <script>\n",
              "    async function quickchart(key) {\n",
              "      const quickchartButtonEl =\n",
              "        document.querySelector('#' + key + ' button');\n",
              "      quickchartButtonEl.disabled = true;  // To prevent multiple clicks.\n",
              "      quickchartButtonEl.classList.add('colab-df-spinner');\n",
              "      try {\n",
              "        const charts = await google.colab.kernel.invokeFunction(\n",
              "            'suggestCharts', [key], {});\n",
              "      } catch (error) {\n",
              "        console.error('Error during call to suggestCharts:', error);\n",
              "      }\n",
              "      quickchartButtonEl.classList.remove('colab-df-spinner');\n",
              "      quickchartButtonEl.classList.add('colab-df-quickchart-complete');\n",
              "    }\n",
              "    (() => {\n",
              "      let quickchartButtonEl =\n",
              "        document.querySelector('#df-0868e477-f22c-4dd3-bb56-02dc67ba787c button');\n",
              "      quickchartButtonEl.style.display =\n",
              "        google.colab.kernel.accessAllowed ? 'block' : 'none';\n",
              "    })();\n",
              "  </script>\n",
              "</div>\n",
              "    </div>\n",
              "  </div>\n"
            ],
            "text/plain": [
              "            model                                        best_params  \\\n",
              "0  LGBMClassifier                 {'max_depth': 8, 'num_leaves': 20}   \n",
              "1  LGBMClassifier  {'min_child_samples': 18, 'min_child_weight': ...   \n",
              "2  LGBMClassifier                            {'feature_fraction': 1}   \n",
              "3  LGBMClassifier         {'bagging_fraction': 1, 'bagging_freq': 2}   \n",
              "\n",
              "   f1_weighted  \n",
              "0     0.921489  \n",
              "1     0.920083  \n",
              "2     0.922553  \n",
              "3     0.919684  "
            ]
          },
          "execution_count": 95,
          "metadata": {},
          "output_type": "execute_result"
        }
      ],
      "source": [
        "GridSearch_gbm"
      ]
    },
    {
      "cell_type": "code",
      "execution_count": null,
      "metadata": {
        "id": "Q86-qhfw19Fb"
      },
      "outputs": [],
      "source": [
        "# with best params\n",
        "gbm_bestParams = LGBMClassifier(objective = 'multiclass',\n",
        "                     class_weight='balanced',\n",
        "                      n_estimators=40,\n",
        "                      is_unbalance = True,\n",
        "                      max_depth = 8,\n",
        "                      num_leaves = 40,\n",
        "                      learning_rate = 0.1,\n",
        "                      feature_fraction = 0.8,\n",
        "                      min_child_samples=18,\n",
        "                      min_child_weight=0.001,\n",
        "                      bagging_fraction = 1,\n",
        "                      bagging_freq = 2)\n",
        "gbm_bestParams.fit(X_train, y_train, eval_set=[(X_test, y_test)])\n",
        "y_pred_gbm_bestParams = gbm_bestParams.predict(X_test)\n",
        "report_gbm_bestParams = classification_report(y_test, y_pred_gbm_bestParams)\n",
        "macro_f1_score_gbm_bestParams, f1_score_gbm_bestParams,f1_GradeD_gbm_bestParams, f1_GradeE_gbm_bestParams, f1_GradeF_gbm_bestParams = get_metrics(report_gbm_bestParams)\n"
      ]
    },
    {
      "cell_type": "code",
      "execution_count": 336,
      "metadata": {
        "colab": {
          "base_uri": "https://localhost:8080/"
        },
        "id": "pQwiuAgFx-20",
        "outputId": "827b3d0e-cc73-4693-91e3-e57bc48d591a"
      },
      "outputs": [
        {
          "name": "stdout",
          "output_type": "stream",
          "text": [
            "              precision    recall  f1-score   support\n",
            "\n",
            "           0       1.00      1.00      1.00       364\n",
            "           1       1.00      0.99      1.00       576\n",
            "           2       0.99      1.00      1.00       598\n",
            "           3       0.98      0.99      0.98       290\n",
            "           4       0.96      0.93      0.94       124\n",
            "           5       0.89      0.89      0.89        37\n",
            "           6       0.91      0.91      0.91        11\n",
            "\n",
            "    accuracy                           0.99      2000\n",
            "   macro avg       0.96      0.96      0.96      2000\n",
            "weighted avg       0.99      0.99      0.99      2000\n",
            "\n"
          ]
        }
      ],
      "source": [
        "print(report_gbm_bestParams)"
      ]
    },
    {
      "cell_type": "code",
      "execution_count": 345,
      "metadata": {
        "id": "UngvnMLH8ZFb"
      },
      "outputs": [],
      "source": [
        "# feature importance\n",
        "gbm_impt=gbm_bestParams.feature_importances_\n",
        "importance=pd.DataFrame({\n",
        "    'column':X_train.columns,\n",
        "    'importance':gbm_impt,\n",
        "}).sort_values(by='importance')\n",
        "importance=importance.reset_index(drop=True)\n",
        "important_frt=list(importance['column'].values)\n",
        "important_frt.reverse()\n",
        "\n",
        "feature_select30 = important_frt[:30]\n",
        "X_train_select = X_train[feature_select30]\n",
        "X_test_select = X_test[feature_select30]"
      ]
    },
    {
      "cell_type": "code",
      "execution_count": null,
      "metadata": {
        "id": "hHjch39ONECz"
      },
      "outputs": [],
      "source": [
        "# bestParams + feature selection\n",
        "gbm_bestParams_select = LGBMClassifier(objective = 'multiclass',\n",
        "                     class_weight='balanced',\n",
        "                      n_estimators=40,\n",
        "                      is_unbalance = True,\n",
        "                      max_depth = 8,\n",
        "                      num_leaves = 20,\n",
        "                      learning_rate = 0.04,\n",
        "                      feature_fraction = 0.8,\n",
        "                      min_child_samples=18,\n",
        "                      min_child_weight=0.001,\n",
        "                      bagging_fraction = 1,\n",
        "                      bagging_freq = 2)\n",
        "gbm_bestParams_select.fit(X_train_select, y_train, eval_set=[(X_test_select, y_test)])\n",
        "y_pred_gbm_bestParams_select = gbm_bestParams_select.predict(X_test_select)\n",
        "report_gbm_bestParams_select = classification_report(y_test, y_pred_gbm_bestParams_select)\n",
        "macro_f1_score_gbm_bestParams_select, f1_score_gbm_bestParams_select, f1_GradeD_gbm_bestParams_select, f1_GradeE_gbm_bestParams_select, f1_GradeF_gbm_bestParams_select = get_metrics(report_gbm_bestParams_select)"
      ]
    },
    {
      "cell_type": "code",
      "execution_count": 347,
      "metadata": {
        "colab": {
          "base_uri": "https://localhost:8080/"
        },
        "id": "dvjOkdaVNZtR",
        "outputId": "c20ae1ae-b5ee-4464-8ee8-b3be9fe8d900"
      },
      "outputs": [
        {
          "name": "stdout",
          "output_type": "stream",
          "text": [
            "              precision    recall  f1-score   support\n",
            "\n",
            "           0       0.99      0.99      0.99       364\n",
            "           1       0.99      0.99      0.99       576\n",
            "           2       0.99      0.99      0.99       598\n",
            "           3       0.98      0.99      0.98       290\n",
            "           4       0.96      0.93      0.94       124\n",
            "           5       0.82      0.89      0.86        37\n",
            "           6       0.80      0.73      0.76        11\n",
            "\n",
            "    accuracy                           0.98      2000\n",
            "   macro avg       0.93      0.93      0.93      2000\n",
            "weighted avg       0.98      0.98      0.98      2000\n",
            "\n"
          ]
        }
      ],
      "source": [
        "print(report_gbm_bestParams_select)"
      ]
    },
    {
      "cell_type": "markdown",
      "metadata": {
        "id": "-gszc9xBrTku"
      },
      "source": [
        "### Model2 :  XGBoost"
      ]
    },
    {
      "cell_type": "code",
      "execution_count": 348,
      "metadata": {
        "id": "AW4c4VryqsVY"
      },
      "outputs": [],
      "source": [
        "xgb = XGBClassifier()\n",
        "xgb.fit(X_train, y_train)\n",
        "y_pred_xgb = xgb.predict(X_test)\n",
        "#report\n",
        "report_xgb = classification_report(y_test, y_pred_xgb)\n",
        "macro_f1_score_xgb, f1_score_xgb, f1_GradeD_xgb, f1_GradeE_xgb, f1_GradeF_xgb = get_metrics(report_xgb)"
      ]
    },
    {
      "cell_type": "code",
      "execution_count": 349,
      "metadata": {
        "colab": {
          "base_uri": "https://localhost:8080/"
        },
        "id": "umlzAjeSOatf",
        "outputId": "f22c266a-c111-494d-ccf4-6b0a32fc1366"
      },
      "outputs": [
        {
          "name": "stdout",
          "output_type": "stream",
          "text": [
            "              precision    recall  f1-score   support\n",
            "\n",
            "           0       1.00      0.99      1.00       364\n",
            "           1       0.99      1.00      0.99       576\n",
            "           2       0.99      1.00      0.99       598\n",
            "           3       0.98      0.99      0.98       290\n",
            "           4       0.97      0.94      0.96       124\n",
            "           5       0.80      0.89      0.85        37\n",
            "           6       0.67      0.36      0.47        11\n",
            "\n",
            "    accuracy                           0.99      2000\n",
            "   macro avg       0.92      0.88      0.89      2000\n",
            "weighted avg       0.99      0.99      0.99      2000\n",
            "\n"
          ]
        }
      ],
      "source": [
        "print(report_xgb)"
      ]
    },
    {
      "cell_type": "code",
      "execution_count": null,
      "metadata": {
        "id": "xlEXQrBtTSW4"
      },
      "outputs": [],
      "source": [
        "param_grids = [{'n_estimators': [400, 500, 600]},\n",
        "           {'max_depth': [4, 5, 6, 7, 8], 'min_child_weight': [1, 2, 3, 4]},\n",
        "           {'gamma': [0.1, 0.2, 0.3, 0.4]},\n",
        "           {'subsample': [0.6, 0.7, 0.8, 0.9], 'colsample_bytree': [0.6, 0.7, 0.8, 0.9]},\n",
        "           {'reg_alpha': [0.05, 0.1, 1, 2], 'reg_lambda': [0.05, 0.1, 1, 2]},\n",
        "           {'learning_rate': [0.01, 0.05, 0.07, 0.1]}]\n",
        "\n",
        "other_params = {'learning_rate': 0.1, 'n_estimators': 500, 'max_depth': 8, 'min_child_weight': 1, 'seed': 0,\n",
        "                    'subsample': 0.8, 'colsample_bytree': 0.8, 'gamma': 0, 'reg_alpha': 0, 'reg_lambda': 1}\n",
        "\n",
        "GridSearch_xgb = optimize_parameters(XGBClassifier, param_grids, other_params, X_train, y_train)\n",
        "\n",
        "# best params:\n",
        "xgb_bestParams= [{'n_estimators': 400},\n",
        "                 {'max_depth': 8, 'min_child_weight': 1},\n",
        "                 {'gamma': 0.4},\n",
        "                 {'colsample_bytree': 0.9, 'subsample': 0.9},\n",
        "                 {'reg_alpha': 0.05, 'reg_lambda': 0.1}\t,\n",
        "                 {'learning_rate': 0.01}]"
      ]
    },
    {
      "cell_type": "code",
      "execution_count": null,
      "metadata": {
        "id": "tVq_EHdL-voJ"
      },
      "outputs": [],
      "source": [
        "GridSearch_xgb"
      ]
    },
    {
      "cell_type": "code",
      "execution_count": 351,
      "metadata": {
        "id": "ySvgIyR5bm9E"
      },
      "outputs": [],
      "source": [
        "# with best params\n",
        "xgb_bestParams = XGBClassifier(learning_rate=0.01, n_estimators = 400, max_depth = 9, min_child_weight= 1, seed= 0,\n",
        "                    subsample= 0.8, colsample_bytree= 0.8, gamma= 0.6, reg_alpha= 0.05, reg_lambda = 0.05)\n",
        "xgb_bestParams.fit(X_train, y_train)\n",
        "y_pred_xgb_bestParams = xgb_bestParams.predict(X_test)\n",
        "\n",
        "report_xgb_bestParams = classification_report(y_test, y_pred_xgb_bestParams)\n",
        "macro_f1_score_xgb_bestParams, f1_score_xgb_bestParams, f1_GradeD_xgb_bestParams, f1_GradeE_xgb_bestParams, f1_GradeF_xgb_bestParams = get_metrics(report_xgb_bestParams)"
      ]
    },
    {
      "cell_type": "code",
      "execution_count": 352,
      "metadata": {
        "colab": {
          "base_uri": "https://localhost:8080/"
        },
        "id": "w1x_tcxjnc5g",
        "outputId": "8c15dc30-2017-49ac-ef10-b09a42d9b79d"
      },
      "outputs": [
        {
          "name": "stdout",
          "output_type": "stream",
          "text": [
            "              precision    recall  f1-score   support\n",
            "\n",
            "           0       0.99      0.99      0.99       364\n",
            "           1       0.99      0.99      0.99       576\n",
            "           2       0.99      0.99      0.99       598\n",
            "           3       0.97      0.99      0.98       290\n",
            "           4       0.97      0.94      0.95       124\n",
            "           5       0.79      0.92      0.85        37\n",
            "           6       1.00      0.36      0.53        11\n",
            "\n",
            "    accuracy                           0.98      2000\n",
            "   macro avg       0.96      0.88      0.90      2000\n",
            "weighted avg       0.98      0.98      0.98      2000\n",
            "\n"
          ]
        }
      ],
      "source": [
        "print(report_xgb_bestParams)"
      ]
    },
    {
      "cell_type": "code",
      "execution_count": 353,
      "metadata": {
        "id": "yxhZM1jcHKGm"
      },
      "outputs": [],
      "source": [
        "# feature importance\n",
        "gbm_impt_xgb=xgb_bestParams.feature_importances_\n",
        "importance=pd.DataFrame({\n",
        "    'column':X_train.columns,\n",
        "    'importance':gbm_impt_xgb,\n",
        "}).sort_values(by='importance')\n",
        "importance=importance.reset_index(drop=True)\n",
        "important_frt=list(importance['column'].values)\n",
        "important_frt.reverse()\n",
        "\n",
        "feature_select20_xgb = important_frt[:20]\n",
        "X_train_select_xgb = X_train[feature_select20_xgb]\n",
        "X_test_select_xgb = X_test[feature_select20_xgb]"
      ]
    },
    {
      "cell_type": "code",
      "execution_count": 354,
      "metadata": {
        "id": "3IRZs8qlSLIm"
      },
      "outputs": [],
      "source": [
        "# Feature selection\n",
        "xgb = XGBClassifier()\n",
        "xgb.fit(X_train_select_xgb, y_train)\n",
        "y_pred_xgb_select = xgb.predict(X_test_select_xgb)\n",
        "\n",
        "report_xgb_select = classification_report(y_test, y_pred_xgb_select)\n",
        "macro_f1_score_xgb_select, f1_score_xgb_select, f1_GradeD_xgb_select, f1_GradeE_xgb_select, f1_GradeF_xgb_select = get_metrics(report_xgb_select)"
      ]
    },
    {
      "cell_type": "code",
      "execution_count": 355,
      "metadata": {
        "colab": {
          "base_uri": "https://localhost:8080/"
        },
        "id": "jpkKpz4snd6V",
        "outputId": "76585cd0-e5d4-413b-cbb9-1be915b6059f"
      },
      "outputs": [
        {
          "name": "stdout",
          "output_type": "stream",
          "text": [
            "              precision    recall  f1-score   support\n",
            "\n",
            "           0       1.00      1.00      1.00       364\n",
            "           1       0.99      1.00      1.00       576\n",
            "           2       1.00      0.99      0.99       598\n",
            "           3       0.97      0.99      0.98       290\n",
            "           4       0.97      0.95      0.96       124\n",
            "           5       0.83      0.92      0.87        37\n",
            "           6       0.83      0.45      0.59        11\n",
            "\n",
            "    accuracy                           0.99      2000\n",
            "   macro avg       0.94      0.90      0.91      2000\n",
            "weighted avg       0.99      0.99      0.99      2000\n",
            "\n"
          ]
        }
      ],
      "source": [
        "print(report_xgb_select)"
      ]
    },
    {
      "cell_type": "code",
      "execution_count": 356,
      "metadata": {
        "id": "AEa-L7FKSpEq"
      },
      "outputs": [],
      "source": [
        "# with best params + Feature selection\n",
        "# Feature selection\n",
        "xgb = XGBClassifier(learning_rate=0.01, n_estimators = 400, max_depth = 9, min_child_weight= 1, seed= 0,\n",
        "                    subsample= 0.8, colsample_bytree= 0.8, gamma= 0.6, reg_alpha= 0.05, reg_lambda = 0.05)\n",
        "xgb.fit(X_train_select_xgb, y_train)\n",
        "y_pred_xgb_bestParams_select = xgb.predict(X_test_select_xgb)\n",
        "\n",
        "report_xgb_bestParams_select = classification_report(y_test, y_pred_xgb_bestParams_select)\n",
        "macro_f1_score_xgb_bestParams_select, f1_score_xgb_bestParams_select, f1_GradeD_xgb_bestParams_select, f1_GradeE_xgb_bestParams_select, f1_GradeF_xgb_bestParams_select = get_metrics(report_xgb_bestParams_select)"
      ]
    },
    {
      "cell_type": "code",
      "execution_count": 357,
      "metadata": {
        "colab": {
          "base_uri": "https://localhost:8080/"
        },
        "id": "k8sLrfyLnfTK",
        "outputId": "4e3ae393-eba5-4db6-eea8-64367f8d070e"
      },
      "outputs": [
        {
          "name": "stdout",
          "output_type": "stream",
          "text": [
            "              precision    recall  f1-score   support\n",
            "\n",
            "           0       1.00      0.99      0.99       364\n",
            "           1       0.99      0.99      0.99       576\n",
            "           2       0.99      0.99      0.99       598\n",
            "           3       0.97      0.99      0.98       290\n",
            "           4       0.97      0.94      0.95       124\n",
            "           5       0.81      0.92      0.86        37\n",
            "           6       0.83      0.45      0.59        11\n",
            "\n",
            "    accuracy                           0.98      2000\n",
            "   macro avg       0.94      0.90      0.91      2000\n",
            "weighted avg       0.98      0.98      0.98      2000\n",
            "\n"
          ]
        }
      ],
      "source": [
        "print(report_xgb_bestParams_select)"
      ]
    },
    {
      "cell_type": "markdown",
      "metadata": {
        "id": "DfjFZKcBnGxk"
      },
      "source": [
        "### Model3 : MLP Model"
      ]
    },
    {
      "cell_type": "code",
      "execution_count": 358,
      "metadata": {
        "id": "qYKE8UKIrTZC"
      },
      "outputs": [],
      "source": [
        "mlp_clf = MLPClassifier(solver='lbfgs')\n",
        "mlp_clf.fit(X_train_scaled, y_train)\n",
        "y_pred_mlp = mlp_clf.predict(X_test_scaled)\n",
        "\n",
        "report_mlp = classification_report(y_test, y_pred_mlp)\n",
        "macro_f1_score_mlp, f1_score_mlp, f1_GradeD_mlp, f1_GradeE_mlp, f1_GradeF_mlp = get_metrics(report_mlp)"
      ]
    },
    {
      "cell_type": "code",
      "execution_count": 359,
      "metadata": {
        "colab": {
          "base_uri": "https://localhost:8080/"
        },
        "id": "1x07BRYRIiFS",
        "outputId": "6fa6d634-b234-4387-dcbb-51f3901423f7"
      },
      "outputs": [
        {
          "name": "stdout",
          "output_type": "stream",
          "text": [
            "              precision    recall  f1-score   support\n",
            "\n",
            "           0       0.93      0.92      0.93       364\n",
            "           1       0.91      0.90      0.90       576\n",
            "           2       0.91      0.93      0.92       598\n",
            "           3       0.85      0.86      0.85       290\n",
            "           4       0.67      0.68      0.67       124\n",
            "           5       0.41      0.32      0.36        37\n",
            "           6       0.54      0.64      0.58        11\n",
            "\n",
            "    accuracy                           0.88      2000\n",
            "   macro avg       0.75      0.75      0.75      2000\n",
            "weighted avg       0.88      0.88      0.88      2000\n",
            "\n"
          ]
        }
      ],
      "source": [
        "print(report_mlp)"
      ]
    },
    {
      "cell_type": "code",
      "execution_count": 360,
      "metadata": {
        "id": "HH0-lVF3Io10"
      },
      "outputs": [],
      "source": [
        "# parametres tunning\n",
        "# mlp_200 = MLPClassifier(solver='lbfgs',hidden_layer_sizes=[200]) # f1 score: 0.68 / 0.82\n",
        "# mlp_200 = MLPClassifier(solver='lbfgs',hidden_layer_sizes=[200,200]) # f1 score: 0.67 / 0.83\n",
        "# mlp_200 = MLPClassifier(solver='lbfgs',hidden_layer_sizes=[200,200], activation='tanh') # f1 score: 0.7 / 0.83\n",
        "mlp_tuned = MLPClassifier(solver='lbfgs',hidden_layer_sizes=[200,200], activation='tanh', alpha = 1, random_state=0) # f1 score: 0.72 / 0.85\n",
        "\n",
        "mlp_tuned.fit(X_train_scaled,y_train)\n",
        "y_pred_mlp_tuned = mlp_tuned.predict(X_test_scaled)\n",
        "report_mlp_tuned = classification_report(y_test, y_pred_mlp_tuned)\n",
        "macro_f1_score_mlp_tuned, f1_score_mlp_tuned,f1_GradeD_mlp_tuned, f1_GradeE_mlp_tuned, f1_GradeF_mlp_tuned = get_metrics(report_mlp_tuned)"
      ]
    },
    {
      "cell_type": "code",
      "execution_count": 361,
      "metadata": {
        "colab": {
          "base_uri": "https://localhost:8080/"
        },
        "id": "ELRX8-WYKKki",
        "outputId": "4a347d2a-831c-4a56-8c12-567637ec745b"
      },
      "outputs": [
        {
          "name": "stdout",
          "output_type": "stream",
          "text": [
            "              precision    recall  f1-score   support\n",
            "\n",
            "           0       0.96      0.94      0.95       364\n",
            "           1       0.95      0.94      0.94       576\n",
            "           2       0.95      0.97      0.96       598\n",
            "           3       0.89      0.90      0.90       290\n",
            "           4       0.77      0.77      0.77       124\n",
            "           5       0.65      0.59      0.62        37\n",
            "           6       0.67      0.36      0.47        11\n",
            "\n",
            "    accuracy                           0.93      2000\n",
            "   macro avg       0.83      0.78      0.80      2000\n",
            "weighted avg       0.92      0.93      0.92      2000\n",
            "\n"
          ]
        }
      ],
      "source": [
        "print(report_mlp_tuned)"
      ]
    },
    {
      "cell_type": "markdown",
      "metadata": {
        "id": "QtBl-cztoFKi"
      },
      "source": [
        "## Comparing Models Prerformance"
      ]
    },
    {
      "cell_type": "code",
      "execution_count": 362,
      "metadata": {
        "colab": {
          "base_uri": "https://localhost:8080/"
        },
        "id": "0DM3W83GOLbH",
        "outputId": "4fa7c69f-ff02-4012-8072-031c833d8d50"
      },
      "outputs": [
        {
          "name": "stdout",
          "output_type": "stream",
          "text": [
            "[LightGBM] [Warning] feature_fraction is set=0.8, colsample_bytree=1.0 will be ignored. Current value: feature_fraction=0.8\n",
            "[LightGBM] [Warning] bagging_fraction is set=1, subsample=1.0 will be ignored. Current value: bagging_fraction=1\n",
            "[LightGBM] [Warning] bagging_freq is set=2, subsample_freq=0 will be ignored. Current value: bagging_freq=2\n"
          ]
        }
      ],
      "source": [
        "roc_auc_score_gbm = roc_auc_score(y_test, gbm_bestParams.predict_proba(X_test), multi_class='ovo', average = 'macro')\n",
        "roc_auc_score_xgb = roc_auc_score(y_test, xgb_bestParams.predict_proba(X_test), multi_class='ovo', average = 'macro')\n",
        "roc_auc_score_mlp = roc_auc_score(y_test, mlp_tuned.predict_proba(X_test_scaled), multi_class='ovo', average = 'macro')"
      ]
    },
    {
      "cell_type": "code",
      "execution_count": 363,
      "metadata": {
        "colab": {
          "base_uri": "https://localhost:8080/",
          "height": 140
        },
        "id": "nqbPFb9TNmEx",
        "outputId": "d01266d4-81c4-4771-ed82-a75b464ba509"
      },
      "outputs": [
        {
          "data": {
            "text/html": [
              "\n",
              "  <div id=\"df-6f72b673-258f-4e75-bf9d-510426125858\" class=\"colab-df-container\">\n",
              "    <div>\n",
              "<style scoped>\n",
              "    .dataframe tbody tr th:only-of-type {\n",
              "        vertical-align: middle;\n",
              "    }\n",
              "\n",
              "    .dataframe tbody tr th {\n",
              "        vertical-align: top;\n",
              "    }\n",
              "\n",
              "    .dataframe thead th {\n",
              "        text-align: right;\n",
              "    }\n",
              "</style>\n",
              "<table border=\"1\" class=\"dataframe\">\n",
              "  <thead>\n",
              "    <tr style=\"text-align: right;\">\n",
              "      <th></th>\n",
              "      <th>Model</th>\n",
              "      <th>ROC_AUC</th>\n",
              "      <th>Macro_f1_score</th>\n",
              "      <th>Weighted_f1_score</th>\n",
              "      <th>f1_Grade_D</th>\n",
              "      <th>f1_Grade_E</th>\n",
              "      <th>f1_Grade_F</th>\n",
              "    </tr>\n",
              "  </thead>\n",
              "  <tbody>\n",
              "    <tr>\n",
              "      <th>0</th>\n",
              "      <td>LightGBM</td>\n",
              "      <td>0.997977</td>\n",
              "      <td>0.95</td>\n",
              "      <td>0.99</td>\n",
              "      <td>0.98</td>\n",
              "      <td>0.94</td>\n",
              "      <td>0.89</td>\n",
              "    </tr>\n",
              "    <tr>\n",
              "      <th>1</th>\n",
              "      <td>XGBoost</td>\n",
              "      <td>0.990776</td>\n",
              "      <td>0.95</td>\n",
              "      <td>0.98</td>\n",
              "      <td>0.98</td>\n",
              "      <td>0.96</td>\n",
              "      <td>0.85</td>\n",
              "    </tr>\n",
              "    <tr>\n",
              "      <th>2</th>\n",
              "      <td>MLP</td>\n",
              "      <td>0.973679</td>\n",
              "      <td>0.95</td>\n",
              "      <td>0.92</td>\n",
              "      <td>0.90</td>\n",
              "      <td>0.77</td>\n",
              "      <td>0.62</td>\n",
              "    </tr>\n",
              "  </tbody>\n",
              "</table>\n",
              "</div>\n",
              "    <div class=\"colab-df-buttons\">\n",
              "\n",
              "  <div class=\"colab-df-container\">\n",
              "    <button class=\"colab-df-convert\" onclick=\"convertToInteractive('df-6f72b673-258f-4e75-bf9d-510426125858')\"\n",
              "            title=\"Convert this dataframe to an interactive table.\"\n",
              "            style=\"display:none;\">\n",
              "\n",
              "  <svg xmlns=\"http://www.w3.org/2000/svg\" height=\"24px\" viewBox=\"0 -960 960 960\">\n",
              "    <path d=\"M120-120v-720h720v720H120Zm60-500h600v-160H180v160Zm220 220h160v-160H400v160Zm0 220h160v-160H400v160ZM180-400h160v-160H180v160Zm440 0h160v-160H620v160ZM180-180h160v-160H180v160Zm440 0h160v-160H620v160Z\"/>\n",
              "  </svg>\n",
              "    </button>\n",
              "\n",
              "  <style>\n",
              "    .colab-df-container {\n",
              "      display:flex;\n",
              "      gap: 12px;\n",
              "    }\n",
              "\n",
              "    .colab-df-convert {\n",
              "      background-color: #E8F0FE;\n",
              "      border: none;\n",
              "      border-radius: 50%;\n",
              "      cursor: pointer;\n",
              "      display: none;\n",
              "      fill: #1967D2;\n",
              "      height: 32px;\n",
              "      padding: 0 0 0 0;\n",
              "      width: 32px;\n",
              "    }\n",
              "\n",
              "    .colab-df-convert:hover {\n",
              "      background-color: #E2EBFA;\n",
              "      box-shadow: 0px 1px 2px rgba(60, 64, 67, 0.3), 0px 1px 3px 1px rgba(60, 64, 67, 0.15);\n",
              "      fill: #174EA6;\n",
              "    }\n",
              "\n",
              "    .colab-df-buttons div {\n",
              "      margin-bottom: 4px;\n",
              "    }\n",
              "\n",
              "    [theme=dark] .colab-df-convert {\n",
              "      background-color: #3B4455;\n",
              "      fill: #D2E3FC;\n",
              "    }\n",
              "\n",
              "    [theme=dark] .colab-df-convert:hover {\n",
              "      background-color: #434B5C;\n",
              "      box-shadow: 0px 1px 3px 1px rgba(0, 0, 0, 0.15);\n",
              "      filter: drop-shadow(0px 1px 2px rgba(0, 0, 0, 0.3));\n",
              "      fill: #FFFFFF;\n",
              "    }\n",
              "  </style>\n",
              "\n",
              "    <script>\n",
              "      const buttonEl =\n",
              "        document.querySelector('#df-6f72b673-258f-4e75-bf9d-510426125858 button.colab-df-convert');\n",
              "      buttonEl.style.display =\n",
              "        google.colab.kernel.accessAllowed ? 'block' : 'none';\n",
              "\n",
              "      async function convertToInteractive(key) {\n",
              "        const element = document.querySelector('#df-6f72b673-258f-4e75-bf9d-510426125858');\n",
              "        const dataTable =\n",
              "          await google.colab.kernel.invokeFunction('convertToInteractive',\n",
              "                                                    [key], {});\n",
              "        if (!dataTable) return;\n",
              "\n",
              "        const docLinkHtml = 'Like what you see? Visit the ' +\n",
              "          '<a target=\"_blank\" href=https://colab.research.google.com/notebooks/data_table.ipynb>data table notebook</a>'\n",
              "          + ' to learn more about interactive tables.';\n",
              "        element.innerHTML = '';\n",
              "        dataTable['output_type'] = 'display_data';\n",
              "        await google.colab.output.renderOutput(dataTable, element);\n",
              "        const docLink = document.createElement('div');\n",
              "        docLink.innerHTML = docLinkHtml;\n",
              "        element.appendChild(docLink);\n",
              "      }\n",
              "    </script>\n",
              "  </div>\n",
              "\n",
              "\n",
              "<div id=\"df-3ff2518d-1707-41c1-a5c3-3619b9e687c9\">\n",
              "  <button class=\"colab-df-quickchart\" onclick=\"quickchart('df-3ff2518d-1707-41c1-a5c3-3619b9e687c9')\"\n",
              "            title=\"Suggest charts\"\n",
              "            style=\"display:none;\">\n",
              "\n",
              "<svg xmlns=\"http://www.w3.org/2000/svg\" height=\"24px\"viewBox=\"0 0 24 24\"\n",
              "     width=\"24px\">\n",
              "    <g>\n",
              "        <path d=\"M19 3H5c-1.1 0-2 .9-2 2v14c0 1.1.9 2 2 2h14c1.1 0 2-.9 2-2V5c0-1.1-.9-2-2-2zM9 17H7v-7h2v7zm4 0h-2V7h2v10zm4 0h-2v-4h2v4z\"/>\n",
              "    </g>\n",
              "</svg>\n",
              "  </button>\n",
              "\n",
              "<style>\n",
              "  .colab-df-quickchart {\n",
              "      --bg-color: #E8F0FE;\n",
              "      --fill-color: #1967D2;\n",
              "      --hover-bg-color: #E2EBFA;\n",
              "      --hover-fill-color: #174EA6;\n",
              "      --disabled-fill-color: #AAA;\n",
              "      --disabled-bg-color: #DDD;\n",
              "  }\n",
              "\n",
              "  [theme=dark] .colab-df-quickchart {\n",
              "      --bg-color: #3B4455;\n",
              "      --fill-color: #D2E3FC;\n",
              "      --hover-bg-color: #434B5C;\n",
              "      --hover-fill-color: #FFFFFF;\n",
              "      --disabled-bg-color: #3B4455;\n",
              "      --disabled-fill-color: #666;\n",
              "  }\n",
              "\n",
              "  .colab-df-quickchart {\n",
              "    background-color: var(--bg-color);\n",
              "    border: none;\n",
              "    border-radius: 50%;\n",
              "    cursor: pointer;\n",
              "    display: none;\n",
              "    fill: var(--fill-color);\n",
              "    height: 32px;\n",
              "    padding: 0;\n",
              "    width: 32px;\n",
              "  }\n",
              "\n",
              "  .colab-df-quickchart:hover {\n",
              "    background-color: var(--hover-bg-color);\n",
              "    box-shadow: 0 1px 2px rgba(60, 64, 67, 0.3), 0 1px 3px 1px rgba(60, 64, 67, 0.15);\n",
              "    fill: var(--button-hover-fill-color);\n",
              "  }\n",
              "\n",
              "  .colab-df-quickchart-complete:disabled,\n",
              "  .colab-df-quickchart-complete:disabled:hover {\n",
              "    background-color: var(--disabled-bg-color);\n",
              "    fill: var(--disabled-fill-color);\n",
              "    box-shadow: none;\n",
              "  }\n",
              "\n",
              "  .colab-df-spinner {\n",
              "    border: 2px solid var(--fill-color);\n",
              "    border-color: transparent;\n",
              "    border-bottom-color: var(--fill-color);\n",
              "    animation:\n",
              "      spin 1s steps(1) infinite;\n",
              "  }\n",
              "\n",
              "  @keyframes spin {\n",
              "    0% {\n",
              "      border-color: transparent;\n",
              "      border-bottom-color: var(--fill-color);\n",
              "      border-left-color: var(--fill-color);\n",
              "    }\n",
              "    20% {\n",
              "      border-color: transparent;\n",
              "      border-left-color: var(--fill-color);\n",
              "      border-top-color: var(--fill-color);\n",
              "    }\n",
              "    30% {\n",
              "      border-color: transparent;\n",
              "      border-left-color: var(--fill-color);\n",
              "      border-top-color: var(--fill-color);\n",
              "      border-right-color: var(--fill-color);\n",
              "    }\n",
              "    40% {\n",
              "      border-color: transparent;\n",
              "      border-right-color: var(--fill-color);\n",
              "      border-top-color: var(--fill-color);\n",
              "    }\n",
              "    60% {\n",
              "      border-color: transparent;\n",
              "      border-right-color: var(--fill-color);\n",
              "    }\n",
              "    80% {\n",
              "      border-color: transparent;\n",
              "      border-right-color: var(--fill-color);\n",
              "      border-bottom-color: var(--fill-color);\n",
              "    }\n",
              "    90% {\n",
              "      border-color: transparent;\n",
              "      border-bottom-color: var(--fill-color);\n",
              "    }\n",
              "  }\n",
              "</style>\n",
              "\n",
              "  <script>\n",
              "    async function quickchart(key) {\n",
              "      const quickchartButtonEl =\n",
              "        document.querySelector('#' + key + ' button');\n",
              "      quickchartButtonEl.disabled = true;  // To prevent multiple clicks.\n",
              "      quickchartButtonEl.classList.add('colab-df-spinner');\n",
              "      try {\n",
              "        const charts = await google.colab.kernel.invokeFunction(\n",
              "            'suggestCharts', [key], {});\n",
              "      } catch (error) {\n",
              "        console.error('Error during call to suggestCharts:', error);\n",
              "      }\n",
              "      quickchartButtonEl.classList.remove('colab-df-spinner');\n",
              "      quickchartButtonEl.classList.add('colab-df-quickchart-complete');\n",
              "    }\n",
              "    (() => {\n",
              "      let quickchartButtonEl =\n",
              "        document.querySelector('#df-3ff2518d-1707-41c1-a5c3-3619b9e687c9 button');\n",
              "      quickchartButtonEl.style.display =\n",
              "        google.colab.kernel.accessAllowed ? 'block' : 'none';\n",
              "    })();\n",
              "  </script>\n",
              "</div>\n",
              "    </div>\n",
              "  </div>\n"
            ],
            "text/plain": [
              "      Model   ROC_AUC  Macro_f1_score  Weighted_f1_score  f1_Grade_D  \\\n",
              "0  LightGBM  0.997977            0.95               0.99        0.98   \n",
              "1   XGBoost  0.990776            0.95               0.98        0.98   \n",
              "2       MLP  0.973679            0.95               0.92        0.90   \n",
              "\n",
              "   f1_Grade_E  f1_Grade_F  \n",
              "0        0.94        0.89  \n",
              "1        0.96        0.85  \n",
              "2        0.77        0.62  "
            ]
          },
          "execution_count": 363,
          "metadata": {},
          "output_type": "execute_result"
        }
      ],
      "source": [
        "data_performance = {\n",
        "    'Model': ['LightGBM', 'XGBoost', 'MLP' ],\n",
        "    'ROC_AUC': [roc_auc_score_gbm,roc_auc_score_xgb, roc_auc_score_mlp],\n",
        "    'Macro_f1_score': [macro_f1_score_gbm_bestParams_select,macro_f1_score_xgb_bestParams_select, macro_f1_score_mlp_tuned],\n",
        "    'Weighted_f1_score': [f1_score_gbm_bestParams, f1_score_xgb_bestParams_select, f1_score_mlp_tuned],\n",
        "    'f1_Grade_D': [f1_GradeD_gbm_bestParams, f1_GradeD_xgb, f1_GradeD_mlp_tuned],\n",
        "    'f1_Grade_E': [f1_GradeE_gbm_bestParams, f1_GradeE_xgb,f1_GradeE_mlp_tuned],\n",
        "    'f1_Grade_F': [f1_GradeF_gbm_bestParams, f1_GradeF_xgb,f1_GradeF_mlp_tuned]\n",
        "    }\n",
        "\n",
        "data_performance = pd.DataFrame(data_performance)\n",
        "data_performance\n",
        "# the table showing the performance metrics for each model separately."
      ]
    },
    {
      "cell_type": "markdown",
      "metadata": {
        "id": "cAayzqliuUsk"
      },
      "source": [
        "Overall, the model LightGBM is performing well accoding to the weighted f1 score and ROC_AUC score.\n",
        "\n",
        "LightGBM outperforms the other models in terms of ROC AUC (0.99), suggesting its better ability to classify positive and negative instances.\n",
        "It demonstrates the highest weighted F1 score (0.95) among the three models, indicating its overall better performance. Also it achieves a relatively high F1 score for Minority Class D, E, F, making it more reliable for predicting this specific minority class.\n",
        "\n",
        "However, with a significant class imbalance among the 7 classes, the high ROC AUC score may not reflect the model's performance accurately, considering the f1 score is not as high as ROC AUC score. The majority classes dominates the ROC AUC calculation, while the model's performance on minority classes is relatively poor, leading to lower F1 scores.\n",
        "\n",
        "By examining the weighted F1 scores for class D,E, and F, these three classes are particularly difficult for the model to predict accurately, and the model is struggling to capture all positive instances or is incorrectly predicting samples as positive for these classes."
      ]
    },
    {
      "cell_type": "code",
      "execution_count": 368,
      "metadata": {
        "colab": {
          "base_uri": "https://localhost:8080/",
          "height": 170
        },
        "id": "5x8K_EP9HAAc",
        "outputId": "1e5da9b6-9e1c-4c9e-ea06-fdb97468308e"
      },
      "outputs": [
        {
          "data": {
            "text/html": [
              "\n",
              "  <div id=\"df-222a2f6e-43b5-4929-b263-96dab9ab67d0\" class=\"colab-df-container\">\n",
              "    <div>\n",
              "<style scoped>\n",
              "    .dataframe tbody tr th:only-of-type {\n",
              "        vertical-align: middle;\n",
              "    }\n",
              "\n",
              "    .dataframe tbody tr th {\n",
              "        vertical-align: top;\n",
              "    }\n",
              "\n",
              "    .dataframe thead th {\n",
              "        text-align: right;\n",
              "    }\n",
              "</style>\n",
              "<table border=\"1\" class=\"dataframe\">\n",
              "  <thead>\n",
              "    <tr style=\"text-align: right;\">\n",
              "      <th></th>\n",
              "      <th>Model</th>\n",
              "      <th>Macro_f1_score</th>\n",
              "      <th>Weighted_f1_score</th>\n",
              "      <th>f1_Grade_D</th>\n",
              "      <th>f1_Grade_E</th>\n",
              "      <th>f1_Grade_F</th>\n",
              "    </tr>\n",
              "  </thead>\n",
              "  <tbody>\n",
              "    <tr>\n",
              "      <th>0</th>\n",
              "      <td>LightGBM</td>\n",
              "      <td>0.95</td>\n",
              "      <td>0.99</td>\n",
              "      <td>0.99</td>\n",
              "      <td>0.96</td>\n",
              "      <td>0.88</td>\n",
              "    </tr>\n",
              "    <tr>\n",
              "      <th>1</th>\n",
              "      <td>LightGBM_Finetune</td>\n",
              "      <td>0.95</td>\n",
              "      <td>0.99</td>\n",
              "      <td>0.98</td>\n",
              "      <td>0.94</td>\n",
              "      <td>0.89</td>\n",
              "    </tr>\n",
              "    <tr>\n",
              "      <th>2</th>\n",
              "      <td>LightGBM_FeatureSelect</td>\n",
              "      <td>0.95</td>\n",
              "      <td>0.99</td>\n",
              "      <td>0.99</td>\n",
              "      <td>0.96</td>\n",
              "      <td>0.87</td>\n",
              "    </tr>\n",
              "    <tr>\n",
              "      <th>3</th>\n",
              "      <td>LightGBM_Finetune_FeatureSelect</td>\n",
              "      <td>0.95</td>\n",
              "      <td>0.98</td>\n",
              "      <td>0.98</td>\n",
              "      <td>0.94</td>\n",
              "      <td>0.86</td>\n",
              "    </tr>\n",
              "  </tbody>\n",
              "</table>\n",
              "</div>\n",
              "    <div class=\"colab-df-buttons\">\n",
              "\n",
              "  <div class=\"colab-df-container\">\n",
              "    <button class=\"colab-df-convert\" onclick=\"convertToInteractive('df-222a2f6e-43b5-4929-b263-96dab9ab67d0')\"\n",
              "            title=\"Convert this dataframe to an interactive table.\"\n",
              "            style=\"display:none;\">\n",
              "\n",
              "  <svg xmlns=\"http://www.w3.org/2000/svg\" height=\"24px\" viewBox=\"0 -960 960 960\">\n",
              "    <path d=\"M120-120v-720h720v720H120Zm60-500h600v-160H180v160Zm220 220h160v-160H400v160Zm0 220h160v-160H400v160ZM180-400h160v-160H180v160Zm440 0h160v-160H620v160ZM180-180h160v-160H180v160Zm440 0h160v-160H620v160Z\"/>\n",
              "  </svg>\n",
              "    </button>\n",
              "\n",
              "  <style>\n",
              "    .colab-df-container {\n",
              "      display:flex;\n",
              "      gap: 12px;\n",
              "    }\n",
              "\n",
              "    .colab-df-convert {\n",
              "      background-color: #E8F0FE;\n",
              "      border: none;\n",
              "      border-radius: 50%;\n",
              "      cursor: pointer;\n",
              "      display: none;\n",
              "      fill: #1967D2;\n",
              "      height: 32px;\n",
              "      padding: 0 0 0 0;\n",
              "      width: 32px;\n",
              "    }\n",
              "\n",
              "    .colab-df-convert:hover {\n",
              "      background-color: #E2EBFA;\n",
              "      box-shadow: 0px 1px 2px rgba(60, 64, 67, 0.3), 0px 1px 3px 1px rgba(60, 64, 67, 0.15);\n",
              "      fill: #174EA6;\n",
              "    }\n",
              "\n",
              "    .colab-df-buttons div {\n",
              "      margin-bottom: 4px;\n",
              "    }\n",
              "\n",
              "    [theme=dark] .colab-df-convert {\n",
              "      background-color: #3B4455;\n",
              "      fill: #D2E3FC;\n",
              "    }\n",
              "\n",
              "    [theme=dark] .colab-df-convert:hover {\n",
              "      background-color: #434B5C;\n",
              "      box-shadow: 0px 1px 3px 1px rgba(0, 0, 0, 0.15);\n",
              "      filter: drop-shadow(0px 1px 2px rgba(0, 0, 0, 0.3));\n",
              "      fill: #FFFFFF;\n",
              "    }\n",
              "  </style>\n",
              "\n",
              "    <script>\n",
              "      const buttonEl =\n",
              "        document.querySelector('#df-222a2f6e-43b5-4929-b263-96dab9ab67d0 button.colab-df-convert');\n",
              "      buttonEl.style.display =\n",
              "        google.colab.kernel.accessAllowed ? 'block' : 'none';\n",
              "\n",
              "      async function convertToInteractive(key) {\n",
              "        const element = document.querySelector('#df-222a2f6e-43b5-4929-b263-96dab9ab67d0');\n",
              "        const dataTable =\n",
              "          await google.colab.kernel.invokeFunction('convertToInteractive',\n",
              "                                                    [key], {});\n",
              "        if (!dataTable) return;\n",
              "\n",
              "        const docLinkHtml = 'Like what you see? Visit the ' +\n",
              "          '<a target=\"_blank\" href=https://colab.research.google.com/notebooks/data_table.ipynb>data table notebook</a>'\n",
              "          + ' to learn more about interactive tables.';\n",
              "        element.innerHTML = '';\n",
              "        dataTable['output_type'] = 'display_data';\n",
              "        await google.colab.output.renderOutput(dataTable, element);\n",
              "        const docLink = document.createElement('div');\n",
              "        docLink.innerHTML = docLinkHtml;\n",
              "        element.appendChild(docLink);\n",
              "      }\n",
              "    </script>\n",
              "  </div>\n",
              "\n",
              "\n",
              "<div id=\"df-3641198b-3719-43ed-aa3a-e547ec955f80\">\n",
              "  <button class=\"colab-df-quickchart\" onclick=\"quickchart('df-3641198b-3719-43ed-aa3a-e547ec955f80')\"\n",
              "            title=\"Suggest charts\"\n",
              "            style=\"display:none;\">\n",
              "\n",
              "<svg xmlns=\"http://www.w3.org/2000/svg\" height=\"24px\"viewBox=\"0 0 24 24\"\n",
              "     width=\"24px\">\n",
              "    <g>\n",
              "        <path d=\"M19 3H5c-1.1 0-2 .9-2 2v14c0 1.1.9 2 2 2h14c1.1 0 2-.9 2-2V5c0-1.1-.9-2-2-2zM9 17H7v-7h2v7zm4 0h-2V7h2v10zm4 0h-2v-4h2v4z\"/>\n",
              "    </g>\n",
              "</svg>\n",
              "  </button>\n",
              "\n",
              "<style>\n",
              "  .colab-df-quickchart {\n",
              "      --bg-color: #E8F0FE;\n",
              "      --fill-color: #1967D2;\n",
              "      --hover-bg-color: #E2EBFA;\n",
              "      --hover-fill-color: #174EA6;\n",
              "      --disabled-fill-color: #AAA;\n",
              "      --disabled-bg-color: #DDD;\n",
              "  }\n",
              "\n",
              "  [theme=dark] .colab-df-quickchart {\n",
              "      --bg-color: #3B4455;\n",
              "      --fill-color: #D2E3FC;\n",
              "      --hover-bg-color: #434B5C;\n",
              "      --hover-fill-color: #FFFFFF;\n",
              "      --disabled-bg-color: #3B4455;\n",
              "      --disabled-fill-color: #666;\n",
              "  }\n",
              "\n",
              "  .colab-df-quickchart {\n",
              "    background-color: var(--bg-color);\n",
              "    border: none;\n",
              "    border-radius: 50%;\n",
              "    cursor: pointer;\n",
              "    display: none;\n",
              "    fill: var(--fill-color);\n",
              "    height: 32px;\n",
              "    padding: 0;\n",
              "    width: 32px;\n",
              "  }\n",
              "\n",
              "  .colab-df-quickchart:hover {\n",
              "    background-color: var(--hover-bg-color);\n",
              "    box-shadow: 0 1px 2px rgba(60, 64, 67, 0.3), 0 1px 3px 1px rgba(60, 64, 67, 0.15);\n",
              "    fill: var(--button-hover-fill-color);\n",
              "  }\n",
              "\n",
              "  .colab-df-quickchart-complete:disabled,\n",
              "  .colab-df-quickchart-complete:disabled:hover {\n",
              "    background-color: var(--disabled-bg-color);\n",
              "    fill: var(--disabled-fill-color);\n",
              "    box-shadow: none;\n",
              "  }\n",
              "\n",
              "  .colab-df-spinner {\n",
              "    border: 2px solid var(--fill-color);\n",
              "    border-color: transparent;\n",
              "    border-bottom-color: var(--fill-color);\n",
              "    animation:\n",
              "      spin 1s steps(1) infinite;\n",
              "  }\n",
              "\n",
              "  @keyframes spin {\n",
              "    0% {\n",
              "      border-color: transparent;\n",
              "      border-bottom-color: var(--fill-color);\n",
              "      border-left-color: var(--fill-color);\n",
              "    }\n",
              "    20% {\n",
              "      border-color: transparent;\n",
              "      border-left-color: var(--fill-color);\n",
              "      border-top-color: var(--fill-color);\n",
              "    }\n",
              "    30% {\n",
              "      border-color: transparent;\n",
              "      border-left-color: var(--fill-color);\n",
              "      border-top-color: var(--fill-color);\n",
              "      border-right-color: var(--fill-color);\n",
              "    }\n",
              "    40% {\n",
              "      border-color: transparent;\n",
              "      border-right-color: var(--fill-color);\n",
              "      border-top-color: var(--fill-color);\n",
              "    }\n",
              "    60% {\n",
              "      border-color: transparent;\n",
              "      border-right-color: var(--fill-color);\n",
              "    }\n",
              "    80% {\n",
              "      border-color: transparent;\n",
              "      border-right-color: var(--fill-color);\n",
              "      border-bottom-color: var(--fill-color);\n",
              "    }\n",
              "    90% {\n",
              "      border-color: transparent;\n",
              "      border-bottom-color: var(--fill-color);\n",
              "    }\n",
              "  }\n",
              "</style>\n",
              "\n",
              "  <script>\n",
              "    async function quickchart(key) {\n",
              "      const quickchartButtonEl =\n",
              "        document.querySelector('#' + key + ' button');\n",
              "      quickchartButtonEl.disabled = true;  // To prevent multiple clicks.\n",
              "      quickchartButtonEl.classList.add('colab-df-spinner');\n",
              "      try {\n",
              "        const charts = await google.colab.kernel.invokeFunction(\n",
              "            'suggestCharts', [key], {});\n",
              "      } catch (error) {\n",
              "        console.error('Error during call to suggestCharts:', error);\n",
              "      }\n",
              "      quickchartButtonEl.classList.remove('colab-df-spinner');\n",
              "      quickchartButtonEl.classList.add('colab-df-quickchart-complete');\n",
              "    }\n",
              "    (() => {\n",
              "      let quickchartButtonEl =\n",
              "        document.querySelector('#df-3641198b-3719-43ed-aa3a-e547ec955f80 button');\n",
              "      quickchartButtonEl.style.display =\n",
              "        google.colab.kernel.accessAllowed ? 'block' : 'none';\n",
              "    })();\n",
              "  </script>\n",
              "</div>\n",
              "    </div>\n",
              "  </div>\n"
            ],
            "text/plain": [
              "                             Model  Macro_f1_score  Weighted_f1_score  \\\n",
              "0                         LightGBM            0.95               0.99   \n",
              "1                LightGBM_Finetune            0.95               0.99   \n",
              "2           LightGBM_FeatureSelect            0.95               0.99   \n",
              "3  LightGBM_Finetune_FeatureSelect            0.95               0.98   \n",
              "\n",
              "   f1_Grade_D  f1_Grade_E  f1_Grade_F  \n",
              "0        0.99        0.96        0.88  \n",
              "1        0.98        0.94        0.89  \n",
              "2        0.99        0.96        0.87  \n",
              "3        0.98        0.94        0.86  "
            ]
          },
          "execution_count": 368,
          "metadata": {},
          "output_type": "execute_result"
        }
      ],
      "source": [
        "data_gbm = {\n",
        "    'Model': ['LightGBM', 'LightGBM_Finetune', 'LightGBM_FeatureSelect', 'LightGBM_Finetune_FeatureSelect'],\n",
        "    'Macro_f1_score':[macro_f1_score_gbm, macro_f1_score_gbm_bestParams, macro_f1_score_gbm_select, macro_f1_score_gbm_bestParams_select],\n",
        "    'Weighted_f1_score': [f1_score_gbm, f1_score_gbm_bestParams, f1_score_gbm_select, f1_score_gbm_bestParams_select],\n",
        "    'f1_Grade_D': [f1_GradeD_gbm, f1_GradeD_gbm_bestParams, f1_GradeD_gbm_select,f1_GradeD_gbm_bestParams_select],\n",
        "    'f1_Grade_E': [f1_GradeE_gbm, f1_GradeE_gbm_bestParams, f1_GradeE_gbm_select,f1_GradeE_gbm_bestParams_select],\n",
        "    'f1_Grade_F': [f1_GradeF_gbm, f1_GradeF_gbm_bestParams, f1_GradeF_gbm_select,f1_GradeF_gbm_bestParams_select]\n",
        "    }\n",
        "data_gbm = pd.DataFrame(data_gbm)\n",
        "data_gbm"
      ]
    },
    {
      "cell_type": "markdown",
      "metadata": {
        "id": "VLnZ4Zu-12Q4"
      },
      "source": [
        "Model improvements: as there are significant class imbalances where certain classes have lower weighted F1 scores, so we wre considering techniques such as class weighting, oversampling/undersampling to improve the performance of the model on those challenging classes."
      ]
    },
    {
      "cell_type": "code",
      "execution_count": null,
      "metadata": {
        "id": "9bsQgYqEsyIU"
      },
      "outputs": [],
      "source": []
    }
  ],
  "metadata": {
    "colab": {
      "collapsed_sections": [
        "o-6mfNEcKOGZ"
      ],
      "provenance": []
    },
    "kernelspec": {
      "display_name": "py10",
      "language": "python",
      "name": "python3"
    },
    "language_info": {
      "codemirror_mode": {
        "name": "ipython",
        "version": 3
      },
      "file_extension": ".py",
      "mimetype": "text/x-python",
      "name": "python",
      "nbconvert_exporter": "python",
      "pygments_lexer": "ipython3",
      "version": "3.10.11"
    }
  },
  "nbformat": 4,
  "nbformat_minor": 0
}
